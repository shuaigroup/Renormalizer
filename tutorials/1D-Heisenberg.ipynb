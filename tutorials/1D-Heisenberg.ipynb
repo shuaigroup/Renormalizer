{
 "cells": [
  {
   "cell_type": "markdown",
   "metadata": {},
   "source": [
    "# Ground state of the Heisenberg model"
   ]
  },
  {
   "cell_type": "markdown",
   "metadata": {},
   "source": [
    "## Overview"
   ]
  },
  {
   "cell_type": "markdown",
   "metadata": {},
   "source": [
    "This notebook will give an example how to use Renormalizer to calculate the ground state energy of the open boundary spin 1/2 1-D Heisenberg model.\n",
    "\n",
    "$$\n",
    "H = J \\sum_i [S_i^z S_{i+1}^z + \\frac{1}{2}(S_i^+ S_{i+1}^- + S_i^- S_{i+1}^+)]\n",
    "$$\n",
    "\n",
    "Exact result via Bethe Anstatz:\n",
    "\n",
    "|$L$ |      $E/J$|\n",
    "|----|-----------|\n",
    "|16  |-6.9117371455749|\n",
    "|24  |-10.4537857604096|\n",
    "|32  |-13.9973156182243|\n",
    "|48  |-21.0859563143863|\n",
    "|64  |-28.1754248597421|\n"
   ]
  },
  {
   "cell_type": "markdown",
   "metadata": {},
   "source": [
    "## Setup"
   ]
  },
  {
   "cell_type": "code",
   "execution_count": 1,
   "metadata": {
    "execution": {
     "iopub.execute_input": "2024-08-24T09:07:02.564415Z",
     "iopub.status.busy": "2024-08-24T09:07:02.564218Z",
     "iopub.status.idle": "2024-08-24T09:07:03.311771Z",
     "shell.execute_reply": "2024-08-24T09:07:03.311128Z"
    }
   },
   "outputs": [
    {
     "name": "stderr",
     "output_type": "stream",
     "text": [
      "2024-08-24 09:07:03,205[INFO] Use NumPy as backend\n"
     ]
    },
    {
     "name": "stderr",
     "output_type": "stream",
     "text": [
      "2024-08-24 09:07:03,206[INFO] numpy random seed is 9012\n"
     ]
    },
    {
     "name": "stderr",
     "output_type": "stream",
     "text": [
      "2024-08-24 09:07:03,206[INFO] random seed is 1092\n"
     ]
    },
    {
     "name": "stderr",
     "output_type": "stream",
     "text": [
      "2024-08-24 09:07:03,217[INFO] Git Commit Hash: 78516d8ee697e5cfb88a1cf2c55ad3299ff3b640\n"
     ]
    },
    {
     "name": "stderr",
     "output_type": "stream",
     "text": [
      "2024-08-24 09:07:03,218[INFO] use 64 bits\n"
     ]
    }
   ],
   "source": [
    "from renormalizer import Model, Op, BasisHalfSpin,  Mps, Mpo, optimize_mps"
   ]
  },
  {
   "cell_type": "markdown",
   "metadata": {},
   "source": [
    "## Define the Model\n",
    "In Renormalizer, models are defined by the Hamiltonian terms and the a list of basis sets. The basis also defines the ordering in DMRG.\n",
    "\n",
    "The spin operators can be represented by Pauli operators\n",
    "$$\n",
    "S^+ = \\sigma^+ \n",
    "$$\n",
    "$$\n",
    "S^- = \\sigma^- \n",
    "$$\n",
    "$$\n",
    "S^{\\{x,y,z\\}} = \\frac{1}{2} \\sigma^{\\{x,y,z\\}}\n",
    "$$"
   ]
  },
  {
   "cell_type": "code",
   "execution_count": 2,
   "metadata": {
    "execution": {
     "iopub.execute_input": "2024-08-24T09:07:03.315004Z",
     "iopub.status.busy": "2024-08-24T09:07:03.314785Z",
     "iopub.status.idle": "2024-08-24T09:07:03.357512Z",
     "shell.execute_reply": "2024-08-24T09:07:03.356849Z"
    }
   },
   "outputs": [
    {
     "name": "stderr",
     "output_type": "stream",
     "text": [
      "2024-08-24 09:07:03,326[DEBUG] # of operator terms: 93\n"
     ]
    },
    {
     "name": "stderr",
     "output_type": "stream",
     "text": [
      "2024-08-24 09:07:03,327[DEBUG] Input operator terms: 93\n"
     ]
    },
    {
     "name": "stderr",
     "output_type": "stream",
     "text": [
      "2024-08-24 09:07:03,329[DEBUG] After combination of the same terms: 93\n"
     ]
    },
    {
     "name": "stderr",
     "output_type": "stream",
     "text": [
      "2024-08-24 09:07:03,330[DEBUG] symbolic mpo algorithm: qr\n"
     ]
    },
    {
     "name": "stdout",
     "output_type": "stream",
     "text": [
      "mpo_bond_dims:[1, 4, 5, 5, 5, 5, 5, 5, 5, 5, 5, 5, 5, 5, 5, 5, 5, 5, 5, 5, 5, 5, 5, 5, 5, 5, 5, 5, 5, 5, 5, 4, 1]\n"
     ]
    }
   ],
   "source": [
    "# define the # of spins\n",
    "nspin = 32\n",
    "\n",
    "# define the model\n",
    "\n",
    "ham_terms = []\n",
    "for ispin in range(nspin-1):\n",
    "    op1 = Op(\"sigma_z sigma_z\", [ispin, ispin+1], 1.0/4)\n",
    "    op2 = Op(\"sigma_+ sigma_-\", [ispin, ispin+1], 1.0/2)\n",
    "    op3 = Op(\"sigma_- sigma_+\", [ispin, ispin+1], 1.0/2)\n",
    "    ham_terms.extend([op1, op2, op3])\n",
    "\n",
    "# set the spin order and local basis\n",
    "basis = [BasisHalfSpin(i) for i in range(nspin)]\n",
    "# construct Hamiltonian MPO\n",
    "model = Model(basis, ham_terms)\n",
    "mpo = Mpo(model)\n",
    "print(f\"mpo_bond_dims:{mpo.bond_dims}\")"
   ]
  },
  {
   "cell_type": "markdown",
   "metadata": {},
   "source": [
    "## DMRG Sweeps"
   ]
  },
  {
   "cell_type": "code",
   "execution_count": 3,
   "metadata": {
    "execution": {
     "iopub.execute_input": "2024-08-24T09:07:03.360134Z",
     "iopub.status.busy": "2024-08-24T09:07:03.359725Z",
     "iopub.status.idle": "2024-08-24T09:07:09.055800Z",
     "shell.execute_reply": "2024-08-24T09:07:09.055150Z"
    }
   },
   "outputs": [
    {
     "name": "stderr",
     "output_type": "stream",
     "text": [
      "2024-08-24 09:07:03,403[INFO] optimization method: 2site\n"
     ]
    },
    {
     "name": "stderr",
     "output_type": "stream",
     "text": [
      "2024-08-24 09:07:03,404[INFO] e_rtol: 1e-06\n"
     ]
    },
    {
     "name": "stderr",
     "output_type": "stream",
     "text": [
      "2024-08-24 09:07:03,405[INFO] e_atol: 1e-08\n"
     ]
    },
    {
     "name": "stderr",
     "output_type": "stream",
     "text": [
      "2024-08-24 09:07:03,406[INFO] procedure: [[30, 0.2], [30, 0], [30, 0], [30, 0], [30, 0]]\n"
     ]
    },
    {
     "name": "stderr",
     "output_type": "stream",
     "text": [
      "2024-08-24 09:07:03,437[DEBUG] isweep: 0\n"
     ]
    },
    {
     "name": "stderr",
     "output_type": "stream",
     "text": [
      "2024-08-24 09:07:03,438[DEBUG] compress config in current loop: 30, percent: 0.2\n"
     ]
    },
    {
     "name": "stderr",
     "output_type": "stream",
     "text": [
      "2024-08-24 09:07:03,439[DEBUG] mps current size: 329.7KiB, Matrix product bond dim:[1, 2, 4, 8, 16, 30, 30, 30, 30, 30, 30, 30, 30, 30, 30, 30, 30, 30, 30, 30, 30, 30, 30, 30, 30, 30, 30, 30, 16, 8, 4, 2, 1]\n"
     ]
    },
    {
     "name": "stderr",
     "output_type": "stream",
     "text": [
      "2024-08-24 09:07:03,440[DEBUG] optimize site: [0, 1]\n"
     ]
    },
    {
     "name": "stderr",
     "output_type": "stream",
     "text": [
      "2024-08-24 09:07:03,441[DEBUG] use direct eigensolver\n"
     ]
    },
    {
     "name": "stderr",
     "output_type": "stream",
     "text": [
      "2024-08-24 09:07:03,444[DEBUG] energy: -0.927999022689833\n"
     ]
    },
    {
     "name": "stderr",
     "output_type": "stream",
     "text": [
      "2024-08-24 09:07:03,446[DEBUG] optimize site: [1, 2]\n"
     ]
    },
    {
     "name": "stderr",
     "output_type": "stream",
     "text": [
      "2024-08-24 09:07:03,448[DEBUG] use direct eigensolver\n"
     ]
    },
    {
     "name": "stderr",
     "output_type": "stream",
     "text": [
      "2024-08-24 09:07:03,452[DEBUG] energy: -1.284089573410534\n"
     ]
    },
    {
     "name": "stderr",
     "output_type": "stream",
     "text": [
      "2024-08-24 09:07:03,454[DEBUG] optimize site: [2, 3]\n"
     ]
    },
    {
     "name": "stderr",
     "output_type": "stream",
     "text": [
      "2024-08-24 09:07:03,455[DEBUG] use direct eigensolver\n"
     ]
    },
    {
     "name": "stderr",
     "output_type": "stream",
     "text": [
      "2024-08-24 09:07:03,478[DEBUG] energy: -2.08574526474992\n"
     ]
    },
    {
     "name": "stderr",
     "output_type": "stream",
     "text": [
      "2024-08-24 09:07:03,480[DEBUG] optimize site: [3, 4]\n"
     ]
    },
    {
     "name": "stderr",
     "output_type": "stream",
     "text": [
      "2024-08-24 09:07:03,482[DEBUG] use direct eigensolver\n"
     ]
    },
    {
     "name": "stderr",
     "output_type": "stream",
     "text": [
      "2024-08-24 09:07:03,731[DEBUG] energy: -2.8158895272374096\n"
     ]
    },
    {
     "name": "stderr",
     "output_type": "stream",
     "text": [
      "2024-08-24 09:07:03,734[DEBUG] optimize site: [4, 5]\n"
     ]
    },
    {
     "name": "stderr",
     "output_type": "stream",
     "text": [
      "2024-08-24 09:07:03,791[DEBUG] use davidson, HC hops: 34\n"
     ]
    },
    {
     "name": "stderr",
     "output_type": "stream",
     "text": [
      "2024-08-24 09:07:03,792[DEBUG] energy: -3.293367315585801\n"
     ]
    },
    {
     "name": "stderr",
     "output_type": "stream",
     "text": [
      "2024-08-24 09:07:03,794[DEBUG] optimize site: [5, 6]\n"
     ]
    },
    {
     "name": "stderr",
     "output_type": "stream",
     "text": [
      "2024-08-24 09:07:03,868[DEBUG] use davidson, HC hops: 42\n"
     ]
    },
    {
     "name": "stderr",
     "output_type": "stream",
     "text": [
      "2024-08-24 09:07:03,871[DEBUG] energy: -3.744986750307194\n"
     ]
    },
    {
     "name": "stderr",
     "output_type": "stream",
     "text": [
      "2024-08-24 09:07:03,882[DEBUG] optimize site: [6, 7]\n"
     ]
    },
    {
     "name": "stderr",
     "output_type": "stream",
     "text": [
      "2024-08-24 09:07:03,954[DEBUG] use davidson, HC hops: 42\n"
     ]
    },
    {
     "name": "stderr",
     "output_type": "stream",
     "text": [
      "2024-08-24 09:07:03,957[DEBUG] energy: -4.176385575496483\n"
     ]
    },
    {
     "name": "stderr",
     "output_type": "stream",
     "text": [
      "2024-08-24 09:07:03,961[DEBUG] optimize site: [7, 8]\n"
     ]
    },
    {
     "name": "stderr",
     "output_type": "stream",
     "text": [
      "2024-08-24 09:07:04,037[DEBUG] use davidson, HC hops: 44\n"
     ]
    },
    {
     "name": "stderr",
     "output_type": "stream",
     "text": [
      "2024-08-24 09:07:04,039[DEBUG] energy: -4.58359347792738\n"
     ]
    },
    {
     "name": "stderr",
     "output_type": "stream",
     "text": [
      "2024-08-24 09:07:04,044[DEBUG] optimize site: [8, 9]\n"
     ]
    },
    {
     "name": "stderr",
     "output_type": "stream",
     "text": [
      "2024-08-24 09:07:04,144[DEBUG] use davidson, HC hops: 55\n"
     ]
    },
    {
     "name": "stderr",
     "output_type": "stream",
     "text": [
      "2024-08-24 09:07:04,147[DEBUG] energy: -4.968031845671196\n"
     ]
    },
    {
     "name": "stderr",
     "output_type": "stream",
     "text": [
      "2024-08-24 09:07:04,152[DEBUG] optimize site: [9, 10]\n"
     ]
    },
    {
     "name": "stderr",
     "output_type": "stream",
     "text": [
      "2024-08-24 09:07:04,266[DEBUG] use davidson, HC hops: 68\n"
     ]
    },
    {
     "name": "stderr",
     "output_type": "stream",
     "text": [
      "2024-08-24 09:07:04,269[DEBUG] energy: -5.41470636083398\n"
     ]
    },
    {
     "name": "stderr",
     "output_type": "stream",
     "text": [
      "2024-08-24 09:07:04,274[DEBUG] optimize site: [10, 11]\n"
     ]
    },
    {
     "name": "stderr",
     "output_type": "stream",
     "text": [
      "2024-08-24 09:07:04,396[DEBUG] use davidson, HC hops: 72\n"
     ]
    },
    {
     "name": "stderr",
     "output_type": "stream",
     "text": [
      "2024-08-24 09:07:04,399[DEBUG] energy: -5.8565297545204675\n"
     ]
    },
    {
     "name": "stderr",
     "output_type": "stream",
     "text": [
      "2024-08-24 09:07:04,410[DEBUG] optimize site: [11, 12]\n"
     ]
    },
    {
     "name": "stderr",
     "output_type": "stream",
     "text": [
      "2024-08-24 09:07:04,573[DEBUG] use davidson, HC hops: 100\n"
     ]
    },
    {
     "name": "stderr",
     "output_type": "stream",
     "text": [
      "2024-08-24 09:07:04,576[DEBUG] energy: -6.279022467295809\n"
     ]
    },
    {
     "name": "stderr",
     "output_type": "stream",
     "text": [
      "2024-08-24 09:07:04,586[DEBUG] optimize site: [12, 13]\n"
     ]
    },
    {
     "name": "stderr",
     "output_type": "stream",
     "text": [
      "2024-08-24 09:07:04,674[DEBUG] use davidson, HC hops: 52\n"
     ]
    },
    {
     "name": "stderr",
     "output_type": "stream",
     "text": [
      "2024-08-24 09:07:04,676[DEBUG] energy: -6.857389012204742\n"
     ]
    },
    {
     "name": "stderr",
     "output_type": "stream",
     "text": [
      "2024-08-24 09:07:04,681[DEBUG] optimize site: [13, 14]\n"
     ]
    },
    {
     "name": "stderr",
     "output_type": "stream",
     "text": [
      "2024-08-24 09:07:04,846[DEBUG] use davidson, HC hops: 100\n"
     ]
    },
    {
     "name": "stderr",
     "output_type": "stream",
     "text": [
      "2024-08-24 09:07:04,849[DEBUG] energy: -7.1145880220057744\n"
     ]
    },
    {
     "name": "stderr",
     "output_type": "stream",
     "text": [
      "2024-08-24 09:07:04,860[DEBUG] optimize site: [14, 15]\n"
     ]
    },
    {
     "name": "stderr",
     "output_type": "stream",
     "text": [
      "2024-08-24 09:07:04,941[DEBUG] use davidson, HC hops: 47\n"
     ]
    },
    {
     "name": "stderr",
     "output_type": "stream",
     "text": [
      "2024-08-24 09:07:04,942[DEBUG] energy: -7.641631783835413\n"
     ]
    },
    {
     "name": "stderr",
     "output_type": "stream",
     "text": [
      "2024-08-24 09:07:04,946[DEBUG] optimize site: [15, 16]\n"
     ]
    },
    {
     "name": "stderr",
     "output_type": "stream",
     "text": [
      "2024-08-24 09:07:05,030[DEBUG] use davidson, HC hops: 51\n"
     ]
    },
    {
     "name": "stderr",
     "output_type": "stream",
     "text": [
      "2024-08-24 09:07:05,031[DEBUG] energy: -8.118395338420047\n"
     ]
    },
    {
     "name": "stderr",
     "output_type": "stream",
     "text": [
      "2024-08-24 09:07:05,035[DEBUG] optimize site: [16, 17]\n"
     ]
    },
    {
     "name": "stderr",
     "output_type": "stream",
     "text": [
      "2024-08-24 09:07:05,136[DEBUG] use davidson, HC hops: 57\n"
     ]
    },
    {
     "name": "stderr",
     "output_type": "stream",
     "text": [
      "2024-08-24 09:07:05,139[DEBUG] energy: -8.579533430762861\n"
     ]
    },
    {
     "name": "stderr",
     "output_type": "stream",
     "text": [
      "2024-08-24 09:07:05,144[DEBUG] optimize site: [17, 18]\n"
     ]
    },
    {
     "name": "stderr",
     "output_type": "stream",
     "text": [
      "2024-08-24 09:07:05,255[DEBUG] use davidson, HC hops: 66\n"
     ]
    },
    {
     "name": "stderr",
     "output_type": "stream",
     "text": [
      "2024-08-24 09:07:05,258[DEBUG] energy: -8.983113190158463\n"
     ]
    },
    {
     "name": "stderr",
     "output_type": "stream",
     "text": [
      "2024-08-24 09:07:05,262[DEBUG] optimize site: [18, 19]\n"
     ]
    },
    {
     "name": "stderr",
     "output_type": "stream",
     "text": [
      "2024-08-24 09:07:05,369[DEBUG] use davidson, HC hops: 62\n"
     ]
    },
    {
     "name": "stderr",
     "output_type": "stream",
     "text": [
      "2024-08-24 09:07:05,372[DEBUG] energy: -9.422205404607674\n"
     ]
    },
    {
     "name": "stderr",
     "output_type": "stream",
     "text": [
      "2024-08-24 09:07:05,377[DEBUG] optimize site: [19, 20]\n"
     ]
    },
    {
     "name": "stderr",
     "output_type": "stream",
     "text": [
      "2024-08-24 09:07:05,480[DEBUG] use davidson, HC hops: 62\n"
     ]
    },
    {
     "name": "stderr",
     "output_type": "stream",
     "text": [
      "2024-08-24 09:07:05,482[DEBUG] energy: -9.90369368091438\n"
     ]
    },
    {
     "name": "stderr",
     "output_type": "stream",
     "text": [
      "2024-08-24 09:07:05,487[DEBUG] optimize site: [20, 21]\n"
     ]
    },
    {
     "name": "stderr",
     "output_type": "stream",
     "text": [
      "2024-08-24 09:07:05,620[DEBUG] use davidson, HC hops: 81\n"
     ]
    },
    {
     "name": "stderr",
     "output_type": "stream",
     "text": [
      "2024-08-24 09:07:05,622[DEBUG] energy: -10.398530611697948\n"
     ]
    },
    {
     "name": "stderr",
     "output_type": "stream",
     "text": [
      "2024-08-24 09:07:05,633[DEBUG] optimize site: [21, 22]\n"
     ]
    },
    {
     "name": "stderr",
     "output_type": "stream",
     "text": [
      "2024-08-24 09:07:05,754[DEBUG] use davidson, HC hops: 76\n"
     ]
    },
    {
     "name": "stderr",
     "output_type": "stream",
     "text": [
      "2024-08-24 09:07:05,756[DEBUG] energy: -10.834489434421656\n"
     ]
    },
    {
     "name": "stderr",
     "output_type": "stream",
     "text": [
      "2024-08-24 09:07:05,767[DEBUG] optimize site: [22, 23]\n"
     ]
    },
    {
     "name": "stderr",
     "output_type": "stream",
     "text": [
      "2024-08-24 09:07:05,858[DEBUG] use davidson, HC hops: 58\n"
     ]
    },
    {
     "name": "stderr",
     "output_type": "stream",
     "text": [
      "2024-08-24 09:07:05,861[DEBUG] energy: -11.41512870712678\n"
     ]
    },
    {
     "name": "stderr",
     "output_type": "stream",
     "text": [
      "2024-08-24 09:07:05,865[DEBUG] optimize site: [23, 24]\n"
     ]
    },
    {
     "name": "stderr",
     "output_type": "stream",
     "text": [
      "2024-08-24 09:07:05,918[DEBUG] use davidson, HC hops: 52\n"
     ]
    },
    {
     "name": "stderr",
     "output_type": "stream",
     "text": [
      "2024-08-24 09:07:05,920[DEBUG] energy: -12.122795879745047\n"
     ]
    },
    {
     "name": "stderr",
     "output_type": "stream",
     "text": [
      "2024-08-24 09:07:05,923[DEBUG] optimize site: [24, 25]\n"
     ]
    },
    {
     "name": "stderr",
     "output_type": "stream",
     "text": [
      "2024-08-24 09:07:05,991[DEBUG] use davidson, HC hops: 71\n"
     ]
    },
    {
     "name": "stderr",
     "output_type": "stream",
     "text": [
      "2024-08-24 09:07:05,993[DEBUG] energy: -12.812234874023446\n"
     ]
    },
    {
     "name": "stderr",
     "output_type": "stream",
     "text": [
      "2024-08-24 09:07:05,996[DEBUG] optimize site: [25, 26]\n"
     ]
    },
    {
     "name": "stderr",
     "output_type": "stream",
     "text": [
      "2024-08-24 09:07:06,051[DEBUG] use davidson, HC hops: 58\n"
     ]
    },
    {
     "name": "stderr",
     "output_type": "stream",
     "text": [
      "2024-08-24 09:07:06,053[DEBUG] energy: -13.774582804126664\n"
     ]
    },
    {
     "name": "stderr",
     "output_type": "stream",
     "text": [
      "2024-08-24 09:07:06,058[DEBUG] optimize site: [26, 27]\n"
     ]
    },
    {
     "name": "stderr",
     "output_type": "stream",
     "text": [
      "2024-08-24 09:07:06,137[DEBUG] use davidson, HC hops: 47\n"
     ]
    },
    {
     "name": "stderr",
     "output_type": "stream",
     "text": [
      "2024-08-24 09:07:06,140[DEBUG] energy: -13.996832655813067\n"
     ]
    },
    {
     "name": "stderr",
     "output_type": "stream",
     "text": [
      "2024-08-24 09:07:06,143[DEBUG] optimize site: [27, 28]\n"
     ]
    },
    {
     "name": "stderr",
     "output_type": "stream",
     "text": [
      "2024-08-24 09:07:06,147[DEBUG] use direct eigensolver\n"
     ]
    },
    {
     "name": "stderr",
     "output_type": "stream",
     "text": [
      "2024-08-24 09:07:06,404[DEBUG] energy: -13.996832655534014\n"
     ]
    },
    {
     "name": "stderr",
     "output_type": "stream",
     "text": [
      "2024-08-24 09:07:06,406[DEBUG] optimize site: [28, 29]\n"
     ]
    },
    {
     "name": "stderr",
     "output_type": "stream",
     "text": [
      "2024-08-24 09:07:06,407[DEBUG] use direct eigensolver\n"
     ]
    },
    {
     "name": "stderr",
     "output_type": "stream",
     "text": [
      "2024-08-24 09:07:06,463[DEBUG] energy: -13.996832655534003\n"
     ]
    },
    {
     "name": "stderr",
     "output_type": "stream",
     "text": [
      "2024-08-24 09:07:06,464[DEBUG] optimize site: [29, 30]\n"
     ]
    },
    {
     "name": "stderr",
     "output_type": "stream",
     "text": [
      "2024-08-24 09:07:06,466[DEBUG] use direct eigensolver\n"
     ]
    },
    {
     "name": "stderr",
     "output_type": "stream",
     "text": [
      "2024-08-24 09:07:06,473[DEBUG] energy: -13.99683265553399\n"
     ]
    },
    {
     "name": "stderr",
     "output_type": "stream",
     "text": [
      "2024-08-24 09:07:06,474[DEBUG] optimize site: [30, 31]\n"
     ]
    },
    {
     "name": "stderr",
     "output_type": "stream",
     "text": [
      "2024-08-24 09:07:06,476[DEBUG] use direct eigensolver\n"
     ]
    },
    {
     "name": "stderr",
     "output_type": "stream",
     "text": [
      "2024-08-24 09:07:06,480[DEBUG] energy: -13.99683265553402\n"
     ]
    },
    {
     "name": "stderr",
     "output_type": "stream",
     "text": [
      "2024-08-24 09:07:06,482[DEBUG] 1 sweeps are finished, lowest energy = -13.996832655813067\n"
     ]
    },
    {
     "name": "stderr",
     "output_type": "stream",
     "text": [
      "2024-08-24 09:07:06,483[DEBUG] isweep: 1\n"
     ]
    },
    {
     "name": "stderr",
     "output_type": "stream",
     "text": [
      "2024-08-24 09:07:06,484[DEBUG] compress config in current loop: 30, percent: 0\n"
     ]
    },
    {
     "name": "stderr",
     "output_type": "stream",
     "text": [
      "2024-08-24 09:07:06,487[DEBUG] mps current size: 343.7KiB, Matrix product bond dim:[1, 2, 4, 8, 16, 30, 30, 30, 30, 30, 30, 30, 30, 30, 30, 30, 30, 30, 30, 30, 30, 30, 30, 30, 30, 30, 30, 30, 30, 16, 8, 4, 1]\n"
     ]
    },
    {
     "name": "stderr",
     "output_type": "stream",
     "text": [
      "2024-08-24 09:07:06,488[DEBUG] optimize site: [30, 31]\n"
     ]
    },
    {
     "name": "stderr",
     "output_type": "stream",
     "text": [
      "2024-08-24 09:07:06,488[DEBUG] use direct eigensolver\n"
     ]
    },
    {
     "name": "stderr",
     "output_type": "stream",
     "text": [
      "2024-08-24 09:07:06,496[DEBUG] energy: -13.99683265553402\n"
     ]
    },
    {
     "name": "stderr",
     "output_type": "stream",
     "text": [
      "2024-08-24 09:07:06,497[DEBUG] optimize site: [29, 30]\n"
     ]
    },
    {
     "name": "stderr",
     "output_type": "stream",
     "text": [
      "2024-08-24 09:07:06,498[DEBUG] use direct eigensolver\n"
     ]
    },
    {
     "name": "stderr",
     "output_type": "stream",
     "text": [
      "2024-08-24 09:07:06,504[DEBUG] energy: -13.996832655534007\n"
     ]
    },
    {
     "name": "stderr",
     "output_type": "stream",
     "text": [
      "2024-08-24 09:07:06,506[DEBUG] optimize site: [28, 29]\n"
     ]
    },
    {
     "name": "stderr",
     "output_type": "stream",
     "text": [
      "2024-08-24 09:07:06,507[DEBUG] use direct eigensolver\n"
     ]
    },
    {
     "name": "stderr",
     "output_type": "stream",
     "text": [
      "2024-08-24 09:07:06,570[DEBUG] energy: -13.996832655533986\n"
     ]
    },
    {
     "name": "stderr",
     "output_type": "stream",
     "text": [
      "2024-08-24 09:07:06,572[DEBUG] optimize site: [27, 28]\n"
     ]
    },
    {
     "name": "stderr",
     "output_type": "stream",
     "text": [
      "2024-08-24 09:07:06,574[DEBUG] use direct eigensolver\n"
     ]
    },
    {
     "name": "stderr",
     "output_type": "stream",
     "text": [
      "2024-08-24 09:07:06,836[DEBUG] energy: -13.996832655534005\n"
     ]
    },
    {
     "name": "stderr",
     "output_type": "stream",
     "text": [
      "2024-08-24 09:07:06,839[DEBUG] optimize site: [26, 27]\n"
     ]
    },
    {
     "name": "stderr",
     "output_type": "stream",
     "text": [
      "2024-08-24 09:07:06,844[DEBUG] use davidson, HC hops: 4\n"
     ]
    },
    {
     "name": "stderr",
     "output_type": "stream",
     "text": [
      "2024-08-24 09:07:06,844[DEBUG] energy: -13.996832655813613\n"
     ]
    },
    {
     "name": "stderr",
     "output_type": "stream",
     "text": [
      "2024-08-24 09:07:06,848[DEBUG] optimize site: [25, 26]\n"
     ]
    },
    {
     "name": "stderr",
     "output_type": "stream",
     "text": [
      "2024-08-24 09:07:06,868[DEBUG] use davidson, HC hops: 22\n"
     ]
    },
    {
     "name": "stderr",
     "output_type": "stream",
     "text": [
      "2024-08-24 09:07:06,869[DEBUG] energy: -13.996844945038344\n"
     ]
    },
    {
     "name": "stderr",
     "output_type": "stream",
     "text": [
      "2024-08-24 09:07:06,872[DEBUG] optimize site: [24, 25]\n"
     ]
    },
    {
     "name": "stderr",
     "output_type": "stream",
     "text": [
      "2024-08-24 09:07:06,898[DEBUG] use davidson, HC hops: 28\n"
     ]
    },
    {
     "name": "stderr",
     "output_type": "stream",
     "text": [
      "2024-08-24 09:07:06,898[DEBUG] energy: -13.997067101658725\n"
     ]
    },
    {
     "name": "stderr",
     "output_type": "stream",
     "text": [
      "2024-08-24 09:07:06,901[DEBUG] optimize site: [23, 24]\n"
     ]
    },
    {
     "name": "stderr",
     "output_type": "stream",
     "text": [
      "2024-08-24 09:07:06,946[DEBUG] use davidson, HC hops: 25\n"
     ]
    },
    {
     "name": "stderr",
     "output_type": "stream",
     "text": [
      "2024-08-24 09:07:06,947[DEBUG] energy: -13.9971016847175\n"
     ]
    },
    {
     "name": "stderr",
     "output_type": "stream",
     "text": [
      "2024-08-24 09:07:06,950[DEBUG] optimize site: [22, 23]\n"
     ]
    },
    {
     "name": "stderr",
     "output_type": "stream",
     "text": [
      "2024-08-24 09:07:06,974[DEBUG] use davidson, HC hops: 23\n"
     ]
    },
    {
     "name": "stderr",
     "output_type": "stream",
     "text": [
      "2024-08-24 09:07:06,975[DEBUG] energy: -13.99710660821369\n"
     ]
    },
    {
     "name": "stderr",
     "output_type": "stream",
     "text": [
      "2024-08-24 09:07:06,978[DEBUG] optimize site: [21, 22]\n"
     ]
    },
    {
     "name": "stderr",
     "output_type": "stream",
     "text": [
      "2024-08-24 09:07:07,001[DEBUG] use davidson, HC hops: 23\n"
     ]
    },
    {
     "name": "stderr",
     "output_type": "stream",
     "text": [
      "2024-08-24 09:07:07,002[DEBUG] energy: -13.997113698271145\n"
     ]
    },
    {
     "name": "stderr",
     "output_type": "stream",
     "text": [
      "2024-08-24 09:07:07,005[DEBUG] optimize site: [20, 21]\n"
     ]
    },
    {
     "name": "stderr",
     "output_type": "stream",
     "text": [
      "2024-08-24 09:07:07,031[DEBUG] use davidson, HC hops: 26\n"
     ]
    },
    {
     "name": "stderr",
     "output_type": "stream",
     "text": [
      "2024-08-24 09:07:07,031[DEBUG] energy: -13.997162638323577\n"
     ]
    },
    {
     "name": "stderr",
     "output_type": "stream",
     "text": [
      "2024-08-24 09:07:07,034[DEBUG] optimize site: [19, 20]\n"
     ]
    },
    {
     "name": "stderr",
     "output_type": "stream",
     "text": [
      "2024-08-24 09:07:07,075[DEBUG] use davidson, HC hops: 23\n"
     ]
    },
    {
     "name": "stderr",
     "output_type": "stream",
     "text": [
      "2024-08-24 09:07:07,076[DEBUG] energy: -13.997170144965583\n"
     ]
    },
    {
     "name": "stderr",
     "output_type": "stream",
     "text": [
      "2024-08-24 09:07:07,079[DEBUG] optimize site: [18, 19]\n"
     ]
    },
    {
     "name": "stderr",
     "output_type": "stream",
     "text": [
      "2024-08-24 09:07:07,112[DEBUG] use davidson, HC hops: 26\n"
     ]
    },
    {
     "name": "stderr",
     "output_type": "stream",
     "text": [
      "2024-08-24 09:07:07,113[DEBUG] energy: -13.997199975427456\n"
     ]
    },
    {
     "name": "stderr",
     "output_type": "stream",
     "text": [
      "2024-08-24 09:07:07,116[DEBUG] optimize site: [17, 18]\n"
     ]
    },
    {
     "name": "stderr",
     "output_type": "stream",
     "text": [
      "2024-08-24 09:07:07,138[DEBUG] use davidson, HC hops: 22\n"
     ]
    },
    {
     "name": "stderr",
     "output_type": "stream",
     "text": [
      "2024-08-24 09:07:07,139[DEBUG] energy: -13.997204392621654\n"
     ]
    },
    {
     "name": "stderr",
     "output_type": "stream",
     "text": [
      "2024-08-24 09:07:07,142[DEBUG] optimize site: [16, 17]\n"
     ]
    },
    {
     "name": "stderr",
     "output_type": "stream",
     "text": [
      "2024-08-24 09:07:07,177[DEBUG] use davidson, HC hops: 25\n"
     ]
    },
    {
     "name": "stderr",
     "output_type": "stream",
     "text": [
      "2024-08-24 09:07:07,178[DEBUG] energy: -13.997225037523856\n"
     ]
    },
    {
     "name": "stderr",
     "output_type": "stream",
     "text": [
      "2024-08-24 09:07:07,182[DEBUG] optimize site: [15, 16]\n"
     ]
    },
    {
     "name": "stderr",
     "output_type": "stream",
     "text": [
      "2024-08-24 09:07:07,227[DEBUG] use davidson, HC hops: 26\n"
     ]
    },
    {
     "name": "stderr",
     "output_type": "stream",
     "text": [
      "2024-08-24 09:07:07,228[DEBUG] energy: -13.997284918121206\n"
     ]
    },
    {
     "name": "stderr",
     "output_type": "stream",
     "text": [
      "2024-08-24 09:07:07,232[DEBUG] optimize site: [14, 15]\n"
     ]
    },
    {
     "name": "stderr",
     "output_type": "stream",
     "text": [
      "2024-08-24 09:07:07,270[DEBUG] use davidson, HC hops: 22\n"
     ]
    },
    {
     "name": "stderr",
     "output_type": "stream",
     "text": [
      "2024-08-24 09:07:07,272[DEBUG] energy: -13.997290859971285\n"
     ]
    },
    {
     "name": "stderr",
     "output_type": "stream",
     "text": [
      "2024-08-24 09:07:07,276[DEBUG] optimize site: [13, 14]\n"
     ]
    },
    {
     "name": "stderr",
     "output_type": "stream",
     "text": [
      "2024-08-24 09:07:07,309[DEBUG] use davidson, HC hops: 20\n"
     ]
    },
    {
     "name": "stderr",
     "output_type": "stream",
     "text": [
      "2024-08-24 09:07:07,310[DEBUG] energy: -13.997293257653846\n"
     ]
    },
    {
     "name": "stderr",
     "output_type": "stream",
     "text": [
      "2024-08-24 09:07:07,314[DEBUG] optimize site: [12, 13]\n"
     ]
    },
    {
     "name": "stderr",
     "output_type": "stream",
     "text": [
      "2024-08-24 09:07:07,353[DEBUG] use davidson, HC hops: 23\n"
     ]
    },
    {
     "name": "stderr",
     "output_type": "stream",
     "text": [
      "2024-08-24 09:07:07,354[DEBUG] energy: -13.997306225086714\n"
     ]
    },
    {
     "name": "stderr",
     "output_type": "stream",
     "text": [
      "2024-08-24 09:07:07,357[DEBUG] optimize site: [11, 12]\n"
     ]
    },
    {
     "name": "stderr",
     "output_type": "stream",
     "text": [
      "2024-08-24 09:07:07,392[DEBUG] use davidson, HC hops: 21\n"
     ]
    },
    {
     "name": "stderr",
     "output_type": "stream",
     "text": [
      "2024-08-24 09:07:07,393[DEBUG] energy: -13.997311145595638\n"
     ]
    },
    {
     "name": "stderr",
     "output_type": "stream",
     "text": [
      "2024-08-24 09:07:07,396[DEBUG] optimize site: [10, 11]\n"
     ]
    },
    {
     "name": "stderr",
     "output_type": "stream",
     "text": [
      "2024-08-24 09:07:07,453[DEBUG] use davidson, HC hops: 20\n"
     ]
    },
    {
     "name": "stderr",
     "output_type": "stream",
     "text": [
      "2024-08-24 09:07:07,454[DEBUG] energy: -13.997313132707518\n"
     ]
    },
    {
     "name": "stderr",
     "output_type": "stream",
     "text": [
      "2024-08-24 09:07:07,458[DEBUG] optimize site: [9, 10]\n"
     ]
    },
    {
     "name": "stderr",
     "output_type": "stream",
     "text": [
      "2024-08-24 09:07:07,501[DEBUG] use davidson, HC hops: 17\n"
     ]
    },
    {
     "name": "stderr",
     "output_type": "stream",
     "text": [
      "2024-08-24 09:07:07,503[DEBUG] energy: -13.997314428626371\n"
     ]
    },
    {
     "name": "stderr",
     "output_type": "stream",
     "text": [
      "2024-08-24 09:07:07,510[DEBUG] optimize site: [8, 9]\n"
     ]
    },
    {
     "name": "stderr",
     "output_type": "stream",
     "text": [
      "2024-08-24 09:07:07,542[DEBUG] use davidson, HC hops: 11\n"
     ]
    },
    {
     "name": "stderr",
     "output_type": "stream",
     "text": [
      "2024-08-24 09:07:07,543[DEBUG] energy: -13.997314715468692\n"
     ]
    },
    {
     "name": "stderr",
     "output_type": "stream",
     "text": [
      "2024-08-24 09:07:07,545[DEBUG] optimize site: [7, 8]\n"
     ]
    },
    {
     "name": "stderr",
     "output_type": "stream",
     "text": [
      "2024-08-24 09:07:07,558[DEBUG] use davidson, HC hops: 7\n"
     ]
    },
    {
     "name": "stderr",
     "output_type": "stream",
     "text": [
      "2024-08-24 09:07:07,558[DEBUG] energy: -13.99731471266979\n"
     ]
    },
    {
     "name": "stderr",
     "output_type": "stream",
     "text": [
      "2024-08-24 09:07:07,562[DEBUG] optimize site: [6, 7]\n"
     ]
    },
    {
     "name": "stderr",
     "output_type": "stream",
     "text": [
      "2024-08-24 09:07:07,585[DEBUG] use davidson, HC hops: 12\n"
     ]
    },
    {
     "name": "stderr",
     "output_type": "stream",
     "text": [
      "2024-08-24 09:07:07,586[DEBUG] energy: -13.997314999750039\n"
     ]
    },
    {
     "name": "stderr",
     "output_type": "stream",
     "text": [
      "2024-08-24 09:07:07,589[DEBUG] optimize site: [5, 6]\n"
     ]
    },
    {
     "name": "stderr",
     "output_type": "stream",
     "text": [
      "2024-08-24 09:07:07,604[DEBUG] use davidson, HC hops: 7\n"
     ]
    },
    {
     "name": "stderr",
     "output_type": "stream",
     "text": [
      "2024-08-24 09:07:07,605[DEBUG] energy: -13.997315003811469\n"
     ]
    },
    {
     "name": "stderr",
     "output_type": "stream",
     "text": [
      "2024-08-24 09:07:07,608[DEBUG] optimize site: [4, 5]\n"
     ]
    },
    {
     "name": "stderr",
     "output_type": "stream",
     "text": [
      "2024-08-24 09:07:07,619[DEBUG] use davidson, HC hops: 5\n"
     ]
    },
    {
     "name": "stderr",
     "output_type": "stream",
     "text": [
      "2024-08-24 09:07:07,620[DEBUG] energy: -13.997315004767804\n"
     ]
    },
    {
     "name": "stderr",
     "output_type": "stream",
     "text": [
      "2024-08-24 09:07:07,622[DEBUG] optimize site: [3, 4]\n"
     ]
    },
    {
     "name": "stderr",
     "output_type": "stream",
     "text": [
      "2024-08-24 09:07:07,625[DEBUG] use direct eigensolver\n"
     ]
    },
    {
     "name": "stderr",
     "output_type": "stream",
     "text": [
      "2024-08-24 09:07:07,894[DEBUG] energy: -13.997315004467103\n"
     ]
    },
    {
     "name": "stderr",
     "output_type": "stream",
     "text": [
      "2024-08-24 09:07:07,896[DEBUG] optimize site: [2, 3]\n"
     ]
    },
    {
     "name": "stderr",
     "output_type": "stream",
     "text": [
      "2024-08-24 09:07:07,898[DEBUG] use direct eigensolver\n"
     ]
    },
    {
     "name": "stderr",
     "output_type": "stream",
     "text": [
      "2024-08-24 09:07:07,944[DEBUG] energy: -13.997315004467099\n"
     ]
    },
    {
     "name": "stderr",
     "output_type": "stream",
     "text": [
      "2024-08-24 09:07:07,947[DEBUG] optimize site: [1, 2]\n"
     ]
    },
    {
     "name": "stderr",
     "output_type": "stream",
     "text": [
      "2024-08-24 09:07:07,949[DEBUG] use direct eigensolver\n"
     ]
    },
    {
     "name": "stderr",
     "output_type": "stream",
     "text": [
      "2024-08-24 09:07:07,955[DEBUG] energy: -13.997315004467112\n"
     ]
    },
    {
     "name": "stderr",
     "output_type": "stream",
     "text": [
      "2024-08-24 09:07:07,958[DEBUG] optimize site: [0, 1]\n"
     ]
    },
    {
     "name": "stderr",
     "output_type": "stream",
     "text": [
      "2024-08-24 09:07:07,960[DEBUG] use direct eigensolver\n"
     ]
    },
    {
     "name": "stderr",
     "output_type": "stream",
     "text": [
      "2024-08-24 09:07:07,963[DEBUG] energy: -13.99731500446709\n"
     ]
    },
    {
     "name": "stderr",
     "output_type": "stream",
     "text": [
      "2024-08-24 09:07:07,965[DEBUG] 2 sweeps are finished, lowest energy = -13.997315004767804\n"
     ]
    },
    {
     "name": "stderr",
     "output_type": "stream",
     "text": [
      "2024-08-24 09:07:07,967[DEBUG] isweep: 2\n"
     ]
    },
    {
     "name": "stderr",
     "output_type": "stream",
     "text": [
      "2024-08-24 09:07:07,969[DEBUG] compress config in current loop: 30, percent: 0\n"
     ]
    },
    {
     "name": "stderr",
     "output_type": "stream",
     "text": [
      "2024-08-24 09:07:07,971[DEBUG] mps current size: 343.7KiB, Matrix product bond dim:[1, 4, 8, 16, 30, 30, 30, 30, 30, 30, 30, 30, 30, 30, 30, 30, 30, 30, 30, 30, 30, 30, 30, 30, 30, 30, 30, 30, 16, 8, 4, 2, 1]\n"
     ]
    },
    {
     "name": "stderr",
     "output_type": "stream",
     "text": [
      "2024-08-24 09:07:07,973[DEBUG] optimize site: [0, 1]\n"
     ]
    },
    {
     "name": "stderr",
     "output_type": "stream",
     "text": [
      "2024-08-24 09:07:07,974[DEBUG] use direct eigensolver\n"
     ]
    },
    {
     "name": "stderr",
     "output_type": "stream",
     "text": [
      "2024-08-24 09:07:07,977[DEBUG] energy: -13.99731500446709\n"
     ]
    },
    {
     "name": "stderr",
     "output_type": "stream",
     "text": [
      "2024-08-24 09:07:07,980[DEBUG] optimize site: [1, 2]\n"
     ]
    },
    {
     "name": "stderr",
     "output_type": "stream",
     "text": [
      "2024-08-24 09:07:07,982[DEBUG] use direct eigensolver\n"
     ]
    },
    {
     "name": "stderr",
     "output_type": "stream",
     "text": [
      "2024-08-24 09:07:07,988[DEBUG] energy: -13.997315004467104\n"
     ]
    },
    {
     "name": "stderr",
     "output_type": "stream",
     "text": [
      "2024-08-24 09:07:07,991[DEBUG] optimize site: [2, 3]\n"
     ]
    },
    {
     "name": "stderr",
     "output_type": "stream",
     "text": [
      "2024-08-24 09:07:07,993[DEBUG] use direct eigensolver\n"
     ]
    },
    {
     "name": "stderr",
     "output_type": "stream",
     "text": [
      "2024-08-24 09:07:08,036[DEBUG] energy: -13.997315004467092\n"
     ]
    },
    {
     "name": "stderr",
     "output_type": "stream",
     "text": [
      "2024-08-24 09:07:08,039[DEBUG] optimize site: [3, 4]\n"
     ]
    },
    {
     "name": "stderr",
     "output_type": "stream",
     "text": [
      "2024-08-24 09:07:08,041[DEBUG] use direct eigensolver\n"
     ]
    },
    {
     "name": "stderr",
     "output_type": "stream",
     "text": [
      "2024-08-24 09:07:08,292[DEBUG] energy: -13.99731500446711\n"
     ]
    },
    {
     "name": "stderr",
     "output_type": "stream",
     "text": [
      "2024-08-24 09:07:08,296[DEBUG] optimize site: [4, 5]\n"
     ]
    },
    {
     "name": "stderr",
     "output_type": "stream",
     "text": [
      "2024-08-24 09:07:08,302[DEBUG] use davidson, HC hops: 4\n"
     ]
    },
    {
     "name": "stderr",
     "output_type": "stream",
     "text": [
      "2024-08-24 09:07:08,303[DEBUG] energy: -13.997315004767877\n"
     ]
    },
    {
     "name": "stderr",
     "output_type": "stream",
     "text": [
      "2024-08-24 09:07:08,307[DEBUG] optimize site: [5, 6]\n"
     ]
    },
    {
     "name": "stderr",
     "output_type": "stream",
     "text": [
      "2024-08-24 09:07:08,313[DEBUG] use davidson, HC hops: 4\n"
     ]
    },
    {
     "name": "stderr",
     "output_type": "stream",
     "text": [
      "2024-08-24 09:07:08,314[DEBUG] energy: -13.997315004667781\n"
     ]
    },
    {
     "name": "stderr",
     "output_type": "stream",
     "text": [
      "2024-08-24 09:07:08,318[DEBUG] optimize site: [6, 7]\n"
     ]
    },
    {
     "name": "stderr",
     "output_type": "stream",
     "text": [
      "2024-08-24 09:07:08,327[DEBUG] use davidson, HC hops: 6\n"
     ]
    },
    {
     "name": "stderr",
     "output_type": "stream",
     "text": [
      "2024-08-24 09:07:08,328[DEBUG] energy: -13.997315012470654\n"
     ]
    },
    {
     "name": "stderr",
     "output_type": "stream",
     "text": [
      "2024-08-24 09:07:08,331[DEBUG] optimize site: [7, 8]\n"
     ]
    },
    {
     "name": "stderr",
     "output_type": "stream",
     "text": [
      "2024-08-24 09:07:08,338[DEBUG] use davidson, HC hops: 5\n"
     ]
    },
    {
     "name": "stderr",
     "output_type": "stream",
     "text": [
      "2024-08-24 09:07:08,339[DEBUG] energy: -13.997315006066664\n"
     ]
    },
    {
     "name": "stderr",
     "output_type": "stream",
     "text": [
      "2024-08-24 09:07:08,345[DEBUG] optimize site: [8, 9]\n"
     ]
    },
    {
     "name": "stderr",
     "output_type": "stream",
     "text": [
      "2024-08-24 09:07:08,353[DEBUG] use davidson, HC hops: 7\n"
     ]
    },
    {
     "name": "stderr",
     "output_type": "stream",
     "text": [
      "2024-08-24 09:07:08,354[DEBUG] energy: -13.997315033374559\n"
     ]
    },
    {
     "name": "stderr",
     "output_type": "stream",
     "text": [
      "2024-08-24 09:07:08,358[DEBUG] optimize site: [9, 10]\n"
     ]
    },
    {
     "name": "stderr",
     "output_type": "stream",
     "text": [
      "2024-08-24 09:07:08,365[DEBUG] use davidson, HC hops: 6\n"
     ]
    },
    {
     "name": "stderr",
     "output_type": "stream",
     "text": [
      "2024-08-24 09:07:08,366[DEBUG] energy: -13.99731501012197\n"
     ]
    },
    {
     "name": "stderr",
     "output_type": "stream",
     "text": [
      "2024-08-24 09:07:08,370[DEBUG] optimize site: [10, 11]\n"
     ]
    },
    {
     "name": "stderr",
     "output_type": "stream",
     "text": [
      "2024-08-24 09:07:08,379[DEBUG] use davidson, HC hops: 8\n"
     ]
    },
    {
     "name": "stderr",
     "output_type": "stream",
     "text": [
      "2024-08-24 09:07:08,380[DEBUG] energy: -13.997315055776916\n"
     ]
    },
    {
     "name": "stderr",
     "output_type": "stream",
     "text": [
      "2024-08-24 09:07:08,383[DEBUG] optimize site: [11, 12]\n"
     ]
    },
    {
     "name": "stderr",
     "output_type": "stream",
     "text": [
      "2024-08-24 09:07:08,393[DEBUG] use davidson, HC hops: 7\n"
     ]
    },
    {
     "name": "stderr",
     "output_type": "stream",
     "text": [
      "2024-08-24 09:07:08,394[DEBUG] energy: -13.997315015890493\n"
     ]
    },
    {
     "name": "stderr",
     "output_type": "stream",
     "text": [
      "2024-08-24 09:07:08,398[DEBUG] optimize site: [12, 13]\n"
     ]
    },
    {
     "name": "stderr",
     "output_type": "stream",
     "text": [
      "2024-08-24 09:07:08,414[DEBUG] use davidson, HC hops: 8\n"
     ]
    },
    {
     "name": "stderr",
     "output_type": "stream",
     "text": [
      "2024-08-24 09:07:08,416[DEBUG] energy: -13.997315076759419\n"
     ]
    },
    {
     "name": "stderr",
     "output_type": "stream",
     "text": [
      "2024-08-24 09:07:08,420[DEBUG] optimize site: [13, 14]\n"
     ]
    },
    {
     "name": "stderr",
     "output_type": "stream",
     "text": [
      "2024-08-24 09:07:08,434[DEBUG] use davidson, HC hops: 7\n"
     ]
    },
    {
     "name": "stderr",
     "output_type": "stream",
     "text": [
      "2024-08-24 09:07:08,436[DEBUG] energy: -13.997315021063802\n"
     ]
    },
    {
     "name": "stderr",
     "output_type": "stream",
     "text": [
      "2024-08-24 09:07:08,440[DEBUG] optimize site: [14, 15]\n"
     ]
    },
    {
     "name": "stderr",
     "output_type": "stream",
     "text": [
      "2024-08-24 09:07:08,456[DEBUG] use davidson, HC hops: 8\n"
     ]
    },
    {
     "name": "stderr",
     "output_type": "stream",
     "text": [
      "2024-08-24 09:07:08,457[DEBUG] energy: -13.997315089163497\n"
     ]
    },
    {
     "name": "stderr",
     "output_type": "stream",
     "text": [
      "2024-08-24 09:07:08,460[DEBUG] optimize site: [15, 16]\n"
     ]
    },
    {
     "name": "stderr",
     "output_type": "stream",
     "text": [
      "2024-08-24 09:07:08,476[DEBUG] use davidson, HC hops: 8\n"
     ]
    },
    {
     "name": "stderr",
     "output_type": "stream",
     "text": [
      "2024-08-24 09:07:08,477[DEBUG] energy: -13.99731502323772\n"
     ]
    },
    {
     "name": "stderr",
     "output_type": "stream",
     "text": [
      "2024-08-24 09:07:08,481[DEBUG] optimize site: [16, 17]\n"
     ]
    },
    {
     "name": "stderr",
     "output_type": "stream",
     "text": [
      "2024-08-24 09:07:08,497[DEBUG] use davidson, HC hops: 9\n"
     ]
    },
    {
     "name": "stderr",
     "output_type": "stream",
     "text": [
      "2024-08-24 09:07:08,498[DEBUG] energy: -13.997315090211636\n"
     ]
    },
    {
     "name": "stderr",
     "output_type": "stream",
     "text": [
      "2024-08-24 09:07:08,501[DEBUG] optimize site: [17, 18]\n"
     ]
    },
    {
     "name": "stderr",
     "output_type": "stream",
     "text": [
      "2024-08-24 09:07:08,511[DEBUG] use davidson, HC hops: 8\n"
     ]
    },
    {
     "name": "stderr",
     "output_type": "stream",
     "text": [
      "2024-08-24 09:07:08,511[DEBUG] energy: -13.997315022014263\n"
     ]
    },
    {
     "name": "stderr",
     "output_type": "stream",
     "text": [
      "2024-08-24 09:07:08,514[DEBUG] optimize site: [18, 19]\n"
     ]
    },
    {
     "name": "stderr",
     "output_type": "stream",
     "text": [
      "2024-08-24 09:07:08,523[DEBUG] use davidson, HC hops: 8\n"
     ]
    },
    {
     "name": "stderr",
     "output_type": "stream",
     "text": [
      "2024-08-24 09:07:08,524[DEBUG] energy: -13.997315079212544\n"
     ]
    },
    {
     "name": "stderr",
     "output_type": "stream",
     "text": [
      "2024-08-24 09:07:08,527[DEBUG] optimize site: [19, 20]\n"
     ]
    },
    {
     "name": "stderr",
     "output_type": "stream",
     "text": [
      "2024-08-24 09:07:08,536[DEBUG] use davidson, HC hops: 7\n"
     ]
    },
    {
     "name": "stderr",
     "output_type": "stream",
     "text": [
      "2024-08-24 09:07:08,537[DEBUG] energy: -13.997315018389681\n"
     ]
    },
    {
     "name": "stderr",
     "output_type": "stream",
     "text": [
      "2024-08-24 09:07:08,539[DEBUG] optimize site: [20, 21]\n"
     ]
    },
    {
     "name": "stderr",
     "output_type": "stream",
     "text": [
      "2024-08-24 09:07:08,548[DEBUG] use davidson, HC hops: 8\n"
     ]
    },
    {
     "name": "stderr",
     "output_type": "stream",
     "text": [
      "2024-08-24 09:07:08,550[DEBUG] energy: -13.997315060471568\n"
     ]
    },
    {
     "name": "stderr",
     "output_type": "stream",
     "text": [
      "2024-08-24 09:07:08,553[DEBUG] optimize site: [21, 22]\n"
     ]
    },
    {
     "name": "stderr",
     "output_type": "stream",
     "text": [
      "2024-08-24 09:07:08,561[DEBUG] use davidson, HC hops: 6\n"
     ]
    },
    {
     "name": "stderr",
     "output_type": "stream",
     "text": [
      "2024-08-24 09:07:08,563[DEBUG] energy: -13.997315014222973\n"
     ]
    },
    {
     "name": "stderr",
     "output_type": "stream",
     "text": [
      "2024-08-24 09:07:08,567[DEBUG] optimize site: [22, 23]\n"
     ]
    },
    {
     "name": "stderr",
     "output_type": "stream",
     "text": [
      "2024-08-24 09:07:08,577[DEBUG] use davidson, HC hops: 8\n"
     ]
    },
    {
     "name": "stderr",
     "output_type": "stream",
     "text": [
      "2024-08-24 09:07:08,579[DEBUG] energy: -13.997315036380726\n"
     ]
    },
    {
     "name": "stderr",
     "output_type": "stream",
     "text": [
      "2024-08-24 09:07:08,583[DEBUG] optimize site: [23, 24]\n"
     ]
    },
    {
     "name": "stderr",
     "output_type": "stream",
     "text": [
      "2024-08-24 09:07:08,591[DEBUG] use davidson, HC hops: 6\n"
     ]
    },
    {
     "name": "stderr",
     "output_type": "stream",
     "text": [
      "2024-08-24 09:07:08,592[DEBUG] energy: -13.99731500906329\n"
     ]
    },
    {
     "name": "stderr",
     "output_type": "stream",
     "text": [
      "2024-08-24 09:07:08,596[DEBUG] optimize site: [24, 25]\n"
     ]
    },
    {
     "name": "stderr",
     "output_type": "stream",
     "text": [
      "2024-08-24 09:07:08,604[DEBUG] use davidson, HC hops: 6\n"
     ]
    },
    {
     "name": "stderr",
     "output_type": "stream",
     "text": [
      "2024-08-24 09:07:08,606[DEBUG] energy: -13.997315015431763\n"
     ]
    },
    {
     "name": "stderr",
     "output_type": "stream",
     "text": [
      "2024-08-24 09:07:08,609[DEBUG] optimize site: [25, 26]\n"
     ]
    },
    {
     "name": "stderr",
     "output_type": "stream",
     "text": [
      "2024-08-24 09:07:08,617[DEBUG] use davidson, HC hops: 5\n"
     ]
    },
    {
     "name": "stderr",
     "output_type": "stream",
     "text": [
      "2024-08-24 09:07:08,619[DEBUG] energy: -13.997315007630434\n"
     ]
    },
    {
     "name": "stderr",
     "output_type": "stream",
     "text": [
      "2024-08-24 09:07:08,622[DEBUG] optimize site: [26, 27]\n"
     ]
    },
    {
     "name": "stderr",
     "output_type": "stream",
     "text": [
      "2024-08-24 09:07:08,628[DEBUG] use davidson, HC hops: 4\n"
     ]
    },
    {
     "name": "stderr",
     "output_type": "stream",
     "text": [
      "2024-08-24 09:07:08,630[DEBUG] energy: -13.997315007727423\n"
     ]
    },
    {
     "name": "stderr",
     "output_type": "stream",
     "text": [
      "2024-08-24 09:07:08,633[DEBUG] optimize site: [27, 28]\n"
     ]
    },
    {
     "name": "stderr",
     "output_type": "stream",
     "text": [
      "2024-08-24 09:07:08,635[DEBUG] use direct eigensolver\n"
     ]
    },
    {
     "name": "stderr",
     "output_type": "stream",
     "text": [
      "2024-08-24 09:07:08,901[DEBUG] energy: -13.997315007427398\n"
     ]
    },
    {
     "name": "stderr",
     "output_type": "stream",
     "text": [
      "2024-08-24 09:07:08,905[DEBUG] optimize site: [28, 29]\n"
     ]
    },
    {
     "name": "stderr",
     "output_type": "stream",
     "text": [
      "2024-08-24 09:07:08,914[DEBUG] use direct eigensolver\n"
     ]
    },
    {
     "name": "stderr",
     "output_type": "stream",
     "text": [
      "2024-08-24 09:07:08,993[DEBUG] energy: -13.997315007427396\n"
     ]
    },
    {
     "name": "stderr",
     "output_type": "stream",
     "text": [
      "2024-08-24 09:07:08,995[DEBUG] optimize site: [29, 30]\n"
     ]
    },
    {
     "name": "stderr",
     "output_type": "stream",
     "text": [
      "2024-08-24 09:07:08,998[DEBUG] use direct eigensolver\n"
     ]
    },
    {
     "name": "stderr",
     "output_type": "stream",
     "text": [
      "2024-08-24 09:07:09,006[DEBUG] energy: -13.997315007427428\n"
     ]
    },
    {
     "name": "stderr",
     "output_type": "stream",
     "text": [
      "2024-08-24 09:07:09,008[DEBUG] optimize site: [30, 31]\n"
     ]
    },
    {
     "name": "stderr",
     "output_type": "stream",
     "text": [
      "2024-08-24 09:07:09,009[DEBUG] use direct eigensolver\n"
     ]
    },
    {
     "name": "stderr",
     "output_type": "stream",
     "text": [
      "2024-08-24 09:07:09,012[DEBUG] energy: -13.99731500742743\n"
     ]
    },
    {
     "name": "stderr",
     "output_type": "stream",
     "text": [
      "2024-08-24 09:07:09,014[DEBUG] 3 sweeps are finished, lowest energy = -13.997315090211636\n"
     ]
    },
    {
     "name": "stderr",
     "output_type": "stream",
     "text": [
      "2024-08-24 09:07:09,015[INFO] DMRG has converged!\n"
     ]
    },
    {
     "name": "stderr",
     "output_type": "stream",
     "text": [
      "2024-08-24 09:07:09,050[INFO] mps current size: 329.7KiB, Matrix product bond dim:[1, 2, 4, 8, 16, 30, 30, 30, 30, 30, 30, 30, 30, 30, 30, 30, 30, 30, 30, 30, 30, 30, 30, 30, 30, 30, 30, 30, 16, 8, 4, 2, 1]\n"
     ]
    },
    {
     "name": "stdout",
     "output_type": "stream",
     "text": [
      "gs energy: -13.997315090211636\n"
     ]
    }
   ],
   "source": [
    "# set the sweep paramter\n",
    "M = 30\n",
    "procedure = [[M, 0.2], [M, 0], [M, 0], [M,0], [M,0]]\n",
    "\n",
    "# initialize a random MPS\n",
    "qntot = 0\n",
    "mps = Mps.random(model, qntot, M)\n",
    "\n",
    "mps.optimize_config.procedure = procedure\n",
    "mps.optimize_config.method = \"2site\"\n",
    "\n",
    "# optimize MPS\n",
    "energies, _ = optimize_mps(mps.copy(), mpo)\n",
    "print(\"gs energy:\", min(energies))"
   ]
  },
  {
   "cell_type": "code",
   "execution_count": null,
   "metadata": {},
   "outputs": [],
   "source": []
  }
 ],
 "metadata": {
  "kernelspec": {
   "display_name": "Python 3 (ipykernel)",
   "language": "python",
   "name": "python3"
  },
  "language_info": {
   "codemirror_mode": {
    "name": "ipython",
    "version": 3
   },
   "file_extension": ".py",
   "mimetype": "text/x-python",
   "name": "python",
   "nbconvert_exporter": "python",
   "pygments_lexer": "ipython3",
   "version": "3.8.18"
  }
 },
 "nbformat": 4,
 "nbformat_minor": 4
}
