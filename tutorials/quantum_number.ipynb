{
 "cells": [
  {
   "cell_type": "markdown",
   "id": "c755940c-e393-457c-bc6c-fac3212526c6",
   "metadata": {},
   "source": [
    "# Quantum Numbers\n",
    "\n",
    "## Overview\n",
    "\n",
    "In this notebook we will introduce the idea of quantum number conservation and how to enforce it in Renormalizer."
   ]
  },
  {
   "cell_type": "markdown",
   "id": "ef2ee6ad-ffa0-4a10-91a0-2f88c5947b24",
   "metadata": {},
   "source": [
    "## Quantum number conservation\n",
    "\n",
    "In the context of Shuai group's research, the most common case of quantum number conservation is the conservation of electron/exciton in the Holstein model.\n",
    "\n",
    "$$\n",
    "\\hat H = \\sum_{ij} J_{ij} \\hat a^\\dagger_i \\hat a_{i+1} + \\sum_{ik}\\frac{1}{2}  (\\hat p_{ik}^2 + \\omega_k^2 \\hat x_{ik}^2) + \\sum_{ik} \\hat a^\\dagger_i \\hat a_i \\hat x_{ik}\n",
    "$$\n",
    "\n",
    "Here, each electronic degree of freedom, described by $\\hat a^\\dagger_i$ and $\\hat a$, is coupled with a set of harmonic oscillators indexed by $k$.\n",
    "\n",
    "For the demonstration purposes, we may neglect the vibrations and focus only on the electronic part, which leads us to the Hückel model (or tight binding model)\n",
    "\n",
    "$$\n",
    "\\hat H = \\sum_{ij} J_{ij} \\hat a^\\dagger_i \\hat a_{i+1}\n",
    "$$\n",
    "\n",
    "This is a model that conserves the total particle number. Formally speaking, this means $\\hat H$ commutes with the total particle number operator $\\hat N = \\sum_i \\hat a^\\dagger_i \\hat a_i$.\n",
    "More intuitively, for any state $|\\psi\\rangle$ with a particular particle number, $\\hat H |\\psi\\rangle$ has the same particle number.\n",
    "For example, suppose there are only two sites, and \n",
    "$$\n",
    "|\\psi\\rangle = |01\\rangle+|10\\rangle\n",
    "$$\n",
    "\n",
    "Thus,\n",
    "\n",
    "$$\n",
    "\\hat H |\\psi\\rangle = J_{12}|10\\rangle+J_{21}|01\\rangle\n",
    "$$\n",
    "\n",
    "The two states with different quantum numbers, $|00\\rangle$ and $|11\\rangle$, will not present in $\\hat H |\\psi\\rangle$.\n",
    "In this model, the total particle number, is called a (good) quantum number.\n",
    "\n",
    "There are two main reasons why we should care about quantum number\n",
    "- For many chemical applications the quantum number can be considered as an input to the model, just as the coefficients $J_{ij}$. For example, the total number of exciton in a excitonic coupling model should be 1. If the conservation of quantum number is not enforced, numerical error may eventually lead us to incorrect solution.\n",
    "- Another advantage of using quantum number is that it saves memory and accelerates calculation. By looking at quantum numbers we can assert some of the matrix/vector elements must be zero. The sparsity can then be exploited for more efficient tensor manipulation, such as SVD."
   ]
  },
  {
   "cell_type": "markdown",
   "id": "dd7291e9-bc15-432d-a965-10981df0f39a",
   "metadata": {},
   "source": [
    "## Setting quantum number for states\n",
    "\n",
    "In renormalizer, the first place to set the quantum number is basis sets. Most `BasisSet` classes have the `sigmaqn` argument that determines the quantum number of each basis."
   ]
  },
  {
   "cell_type": "code",
   "execution_count": 1,
   "id": "38d22aea-d558-4050-ba09-5ee910022a6e",
   "metadata": {
    "execution": {
     "iopub.execute_input": "2024-07-26T04:21:06.412639Z",
     "iopub.status.busy": "2024-07-26T04:21:06.412422Z",
     "iopub.status.idle": "2024-07-26T04:21:07.056649Z",
     "shell.execute_reply": "2024-07-26T04:21:07.056046Z"
    }
   },
   "outputs": [
    {
     "name": "stderr",
     "output_type": "stream",
     "text": [
      "2024-07-26 04:21:07,009[INFO] Use NumPy as backend\n"
     ]
    },
    {
     "name": "stderr",
     "output_type": "stream",
     "text": [
      "2024-07-26 04:21:07,010[INFO] numpy random seed is 9012\n"
     ]
    },
    {
     "name": "stderr",
     "output_type": "stream",
     "text": [
      "2024-07-26 04:21:07,010[INFO] random seed is 1092\n"
     ]
    },
    {
     "name": "stderr",
     "output_type": "stream",
     "text": [
      "2024-07-26 04:21:07,021[INFO] Git Commit Hash: 49a95b7b233b065dac03a2c29d0169c0bc967cfd\n"
     ]
    },
    {
     "name": "stderr",
     "output_type": "stream",
     "text": [
      "2024-07-26 04:21:07,021[INFO] use 64 bits\n"
     ]
    }
   ],
   "source": [
    "from renormalizer import BasisSimpleElectron"
   ]
  },
  {
   "cell_type": "markdown",
   "id": "405f96e2-a0b8-4623-a595-3e55f0e2f2d0",
   "metadata": {},
   "source": [
    "Here we set up two basis sets and sets the quantum number for $|0\\rangle$ to 0 and $|1\\rangle$ to 1."
   ]
  },
  {
   "cell_type": "code",
   "execution_count": 2,
   "id": "4069da65-755f-4fce-8a83-48a498dfabda",
   "metadata": {
    "execution": {
     "iopub.execute_input": "2024-07-26T04:21:07.059915Z",
     "iopub.status.busy": "2024-07-26T04:21:07.059490Z",
     "iopub.status.idle": "2024-07-26T04:21:07.063435Z",
     "shell.execute_reply": "2024-07-26T04:21:07.062646Z"
    }
   },
   "outputs": [],
   "source": [
    "b1 = BasisSimpleElectron(0, sigmaqn=[0, 1])\n",
    "b2 = BasisSimpleElectron(1, sigmaqn=[0, 1])\n",
    "basis = [b1, b2]"
   ]
  },
  {
   "cell_type": "markdown",
   "id": "9e78c5a0-5570-451a-8ea0-6c703bad5178",
   "metadata": {},
   "source": [
    "We next build a random MPS based on the basis sets and see its effect"
   ]
  },
  {
   "cell_type": "code",
   "execution_count": 3,
   "id": "9d3b7ff7-ac29-4a33-8ed8-98dca88d1c37",
   "metadata": {
    "execution": {
     "iopub.execute_input": "2024-07-26T04:21:07.066209Z",
     "iopub.status.busy": "2024-07-26T04:21:07.065788Z",
     "iopub.status.idle": "2024-07-26T04:21:07.068800Z",
     "shell.execute_reply": "2024-07-26T04:21:07.068161Z"
    }
   },
   "outputs": [],
   "source": [
    "from renormalizer import Mps, Model"
   ]
  },
  {
   "cell_type": "code",
   "execution_count": 4,
   "id": "e9358f1f-f98e-4581-b6e0-54308966f74f",
   "metadata": {
    "execution": {
     "iopub.execute_input": "2024-07-26T04:21:07.071472Z",
     "iopub.status.busy": "2024-07-26T04:21:07.071071Z",
     "iopub.status.idle": "2024-07-26T04:21:07.074070Z",
     "shell.execute_reply": "2024-07-26T04:21:07.073415Z"
    }
   },
   "outputs": [],
   "source": [
    "model = Model(basis, ham_terms=[])"
   ]
  },
  {
   "cell_type": "code",
   "execution_count": 5,
   "id": "f86cea1c-916f-47c0-bced-a8dc7c2f7055",
   "metadata": {
    "execution": {
     "iopub.execute_input": "2024-07-26T04:21:07.076624Z",
     "iopub.status.busy": "2024-07-26T04:21:07.076248Z",
     "iopub.status.idle": "2024-07-26T04:21:07.080078Z",
     "shell.execute_reply": "2024-07-26T04:21:07.079423Z"
    }
   },
   "outputs": [],
   "source": [
    "mps = Mps.random(model, qntot=1, m_max=2)"
   ]
  },
  {
   "cell_type": "code",
   "execution_count": 6,
   "id": "ff4c6277-31bb-4010-aca8-c637e3e0fa0c",
   "metadata": {
    "execution": {
     "iopub.execute_input": "2024-07-26T04:21:07.082513Z",
     "iopub.status.busy": "2024-07-26T04:21:07.082128Z",
     "iopub.status.idle": "2024-07-26T04:21:07.088944Z",
     "shell.execute_reply": "2024-07-26T04:21:07.088282Z"
    }
   },
   "outputs": [
    {
     "data": {
      "text/plain": [
       "array([[[1., 0.],\n",
       "        [0., 1.]]])"
      ]
     },
     "execution_count": 6,
     "metadata": {},
     "output_type": "execute_result"
    }
   ],
   "source": [
    "mps[0].array"
   ]
  },
  {
   "cell_type": "code",
   "execution_count": 7,
   "id": "ee83a807-0962-4889-b895-63067c898497",
   "metadata": {
    "execution": {
     "iopub.execute_input": "2024-07-26T04:21:07.091470Z",
     "iopub.status.busy": "2024-07-26T04:21:07.091105Z",
     "iopub.status.idle": "2024-07-26T04:21:07.095353Z",
     "shell.execute_reply": "2024-07-26T04:21:07.094727Z"
    }
   },
   "outputs": [
    {
     "data": {
      "text/plain": [
       "array([[[ 0.        ],\n",
       "        [-0.7089592 ]],\n",
       "\n",
       "       [[-0.70524949],\n",
       "        [ 0.        ]]])"
      ]
     },
     "execution_count": 7,
     "metadata": {},
     "output_type": "execute_result"
    }
   ],
   "source": [
    "mps[1].array"
   ]
  },
  {
   "cell_type": "code",
   "execution_count": 8,
   "id": "faac1b86-603c-4c1e-8924-b21216d6949e",
   "metadata": {
    "execution": {
     "iopub.execute_input": "2024-07-26T04:21:07.098000Z",
     "iopub.status.busy": "2024-07-26T04:21:07.097494Z",
     "iopub.status.idle": "2024-07-26T04:21:07.102115Z",
     "shell.execute_reply": "2024-07-26T04:21:07.101431Z"
    }
   },
   "outputs": [
    {
     "data": {
      "text/plain": [
       "array([ 0.        , -0.7089592 , -0.70524949,  0.        ])"
      ]
     },
     "execution_count": 8,
     "metadata": {},
     "output_type": "execute_result"
    }
   ],
   "source": [
    "mps.todense()"
   ]
  },
  {
   "cell_type": "markdown",
   "id": "1a0476e9-1884-465b-b0df-f21693f423f1",
   "metadata": {},
   "source": [
    "We can see that although the MPS is random, half of the matrix elements are zero, due to particle number conservation. As a result, the overall dense state vector has a well-defined particle number of 1.\n",
    "\n",
    "For comparison, in the following the MPS when quantum number is not activated is shown"
   ]
  },
  {
   "cell_type": "code",
   "execution_count": 9,
   "id": "ee62750a-8bc3-40ed-b7fa-d983942f8f19",
   "metadata": {
    "execution": {
     "iopub.execute_input": "2024-07-26T04:21:07.104881Z",
     "iopub.status.busy": "2024-07-26T04:21:07.104488Z",
     "iopub.status.idle": "2024-07-26T04:21:07.108560Z",
     "shell.execute_reply": "2024-07-26T04:21:07.107999Z"
    }
   },
   "outputs": [],
   "source": [
    "model2 = Model([BasisSimpleElectron(i, sigmaqn=[0, 0]) for i in range(2)], ham_terms=[])\n",
    "mps2 = Mps.random(model2, qntot=0, m_max=2)"
   ]
  },
  {
   "cell_type": "code",
   "execution_count": 10,
   "id": "aab1e5dd-2aef-45a4-a7e2-11b31d9bdd53",
   "metadata": {
    "execution": {
     "iopub.execute_input": "2024-07-26T04:21:07.110992Z",
     "iopub.status.busy": "2024-07-26T04:21:07.110788Z",
     "iopub.status.idle": "2024-07-26T04:21:07.115075Z",
     "shell.execute_reply": "2024-07-26T04:21:07.114410Z"
    }
   },
   "outputs": [
    {
     "data": {
      "text/plain": [
       "array([[[-0.27201201, -0.96229386],\n",
       "        [ 0.96229386, -0.27201201]]])"
      ]
     },
     "execution_count": 10,
     "metadata": {},
     "output_type": "execute_result"
    }
   ],
   "source": [
    "mps2[0].array"
   ]
  },
  {
   "cell_type": "code",
   "execution_count": 11,
   "id": "099493a0-f1bc-4eaf-ad21-a9faee50ad2d",
   "metadata": {
    "execution": {
     "iopub.execute_input": "2024-07-26T04:21:07.117682Z",
     "iopub.status.busy": "2024-07-26T04:21:07.117282Z",
     "iopub.status.idle": "2024-07-26T04:21:07.121543Z",
     "shell.execute_reply": "2024-07-26T04:21:07.120873Z"
    }
   },
   "outputs": [
    {
     "data": {
      "text/plain": [
       "array([[[-0.56196169],\n",
       "        [ 0.61166976]],\n",
       "\n",
       "       [[ 0.34668986],\n",
       "        [ 0.43573537]]])"
      ]
     },
     "execution_count": 11,
     "metadata": {},
     "output_type": "execute_result"
    }
   ],
   "source": [
    "mps2[1].array"
   ]
  },
  {
   "cell_type": "code",
   "execution_count": 12,
   "id": "33c1f28a-4847-4918-b25e-def309491a06",
   "metadata": {
    "execution": {
     "iopub.execute_input": "2024-07-26T04:21:07.124095Z",
     "iopub.status.busy": "2024-07-26T04:21:07.123704Z",
     "iopub.status.idle": "2024-07-26T04:21:07.128223Z",
     "shell.execute_reply": "2024-07-26T04:21:07.127600Z"
    }
   },
   "outputs": [
    {
     "data": {
      "text/plain": [
       "array([-0.18075719, -0.58568699, -0.63507609,  0.47008079])"
      ]
     },
     "execution_count": 12,
     "metadata": {},
     "output_type": "execute_result"
    }
   ],
   "source": [
    "mps2.todense()"
   ]
  },
  {
   "cell_type": "markdown",
   "id": "4caf1a2b-77aa-4516-9e93-5d391e1d5645",
   "metadata": {},
   "source": [
    "## Setting quantum number for operators\n",
    "Just as states, operators are also associated with quantum number. The quantum number of an operator shows the change of quantum number if the operator is applied to a state.\n",
    "For example, the quantum number of $\\hat a^\\dagger$ is 1, since\n",
    "\n",
    "$$\n",
    "\\hat a^\\dagger |0\\rangle = |1\\rangle\n",
    "$$\n",
    "\n",
    "Similarly, the quantum number of $\\hat a$ is -1.\n",
    "\n",
    "In Renormalizer, to fully take advantage of quatnum number conservation, we need to set the quantum number for the operators. The `Op` class accepts the `qn` argument for the quantum number of each elementary operator."
   ]
  },
  {
   "cell_type": "code",
   "execution_count": 13,
   "id": "eb7f7ba4-5228-41bc-bf6d-ee41211e5f81",
   "metadata": {
    "execution": {
     "iopub.execute_input": "2024-07-26T04:21:07.130778Z",
     "iopub.status.busy": "2024-07-26T04:21:07.130399Z",
     "iopub.status.idle": "2024-07-26T04:21:07.133386Z",
     "shell.execute_reply": "2024-07-26T04:21:07.132738Z"
    }
   },
   "outputs": [],
   "source": [
    "from renormalizer import Op, Mpo"
   ]
  },
  {
   "cell_type": "markdown",
   "id": "b077751c-0f0a-499d-baaa-0acf65994c18",
   "metadata": {},
   "source": [
    "Apply the creation operator to the MPS. The total quantum number of the MPS increases from 1 to 2, and the resulting state is $|11\\rangle$."
   ]
  },
  {
   "cell_type": "code",
   "execution_count": 14,
   "id": "86bfaee4-bbe1-43d5-98a6-0e1116131083",
   "metadata": {
    "execution": {
     "iopub.execute_input": "2024-07-26T04:21:07.135885Z",
     "iopub.status.busy": "2024-07-26T04:21:07.135525Z",
     "iopub.status.idle": "2024-07-26T04:21:07.140302Z",
     "shell.execute_reply": "2024-07-26T04:21:07.139653Z"
    }
   },
   "outputs": [
    {
     "name": "stderr",
     "output_type": "stream",
     "text": [
      "2024-07-26 04:21:07,136[DEBUG] # of operator terms: 1\n"
     ]
    }
   ],
   "source": [
    "mps3 = Mpo(model, Op(r\"a^\\dagger\", 0, qn=1)) @ mps"
   ]
  },
  {
   "cell_type": "code",
   "execution_count": 15,
   "id": "48c0d99b-a6c2-4656-b78d-9762d7cba665",
   "metadata": {
    "execution": {
     "iopub.execute_input": "2024-07-26T04:21:07.142992Z",
     "iopub.status.busy": "2024-07-26T04:21:07.142601Z",
     "iopub.status.idle": "2024-07-26T04:21:07.146746Z",
     "shell.execute_reply": "2024-07-26T04:21:07.146069Z"
    }
   },
   "outputs": [
    {
     "data": {
      "text/plain": [
       "array([2])"
      ]
     },
     "execution_count": 15,
     "metadata": {},
     "output_type": "execute_result"
    }
   ],
   "source": [
    "mps3.qntot"
   ]
  },
  {
   "cell_type": "code",
   "execution_count": 16,
   "id": "0cad769d-b8e1-43b4-8c95-08e45dbf7cc6",
   "metadata": {
    "execution": {
     "iopub.execute_input": "2024-07-26T04:21:07.149388Z",
     "iopub.status.busy": "2024-07-26T04:21:07.148971Z",
     "iopub.status.idle": "2024-07-26T04:21:07.153311Z",
     "shell.execute_reply": "2024-07-26T04:21:07.152643Z"
    }
   },
   "outputs": [
    {
     "data": {
      "text/plain": [
       "array([ 0.       ,  0.       ,  0.       , -0.7089592])"
      ]
     },
     "execution_count": 16,
     "metadata": {},
     "output_type": "execute_result"
    }
   ],
   "source": [
    "mps3.todense()"
   ]
  },
  {
   "cell_type": "markdown",
   "id": "dd43f83d-c904-49b4-9cf6-61311dfb70eb",
   "metadata": {},
   "source": [
    "For complex symbols the quantum number for each elementary symbol should be specified."
   ]
  },
  {
   "cell_type": "code",
   "execution_count": 17,
   "id": "7110a397-e270-4083-b064-aded86675163",
   "metadata": {
    "execution": {
     "iopub.execute_input": "2024-07-26T04:21:07.155915Z",
     "iopub.status.busy": "2024-07-26T04:21:07.155437Z",
     "iopub.status.idle": "2024-07-26T04:21:07.158819Z",
     "shell.execute_reply": "2024-07-26T04:21:07.158203Z"
    }
   },
   "outputs": [],
   "source": [
    "ham_terms = Op(r\"a^\\dagger a\", [0, 1], qn=[1, -1]) + Op(r\"a^\\dagger a\", [1, 0], qn=[1, -1])"
   ]
  },
  {
   "cell_type": "markdown",
   "id": "f2f06181-87d2-4a03-97df-c859cb304c30",
   "metadata": {},
   "source": [
    "To summarize, three places are relevant to the setup of quantum number\n",
    "- The basis sets\n",
    "- The operators\n",
    "- Total quantum number in MPS"
   ]
  },
  {
   "cell_type": "markdown",
   "id": "2dd4d74c-386a-4244-8422-5d022842d07f",
   "metadata": {},
   "source": [
    "## Advanced usage (To be updated)\n",
    "\n",
    "- Setting quantum number is not necessary. When quantum number is not conserved or in other cases when quantum number is not desired, we can skip this by set all to 0.\n",
    "\n",
    "- If quantum numbers are set incorrectly.\n",
    "\n",
    "- U(1) quantum number and more than one quantum number"
   ]
  }
 ],
 "metadata": {
  "kernelspec": {
   "display_name": "Python 3 (ipykernel)",
   "language": "python",
   "name": "python3"
  },
  "language_info": {
   "codemirror_mode": {
    "name": "ipython",
    "version": 3
   },
   "file_extension": ".py",
   "mimetype": "text/x-python",
   "name": "python",
   "nbconvert_exporter": "python",
   "pygments_lexer": "ipython3",
   "version": "3.8.18"
  }
 },
 "nbformat": 4,
 "nbformat_minor": 5
}
