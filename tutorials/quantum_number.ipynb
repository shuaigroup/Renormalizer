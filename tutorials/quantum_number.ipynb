{
 "cells": [
  {
   "cell_type": "markdown",
   "id": "c755940c-e393-457c-bc6c-fac3212526c6",
   "metadata": {},
   "source": [
    "# Quantum Numbers\n",
    "\n",
    "## Overview\n",
    "\n",
    "In this notebook we will introduce the idea of quantum number conservation and how to enforce it in Renormalizer."
   ]
  },
  {
   "cell_type": "markdown",
   "id": "ef2ee6ad-ffa0-4a10-91a0-2f88c5947b24",
   "metadata": {},
   "source": [
    "## Quantum number conservation\n",
    "\n",
    "In the context of Shuai group's research, the most common case of quantum number conservation is the conservation of electron/exciton in the Holstein model.\n",
    "\n",
    "$$\n",
    "\\hat H = \\sum_{ij} J_{ij} \\hat a^\\dagger_i \\hat a_{i+1} + \\sum_{ik}\\frac{1}{2}  (\\hat p_{ik}^2 + \\omega_k^2 \\hat x_{ik}^2) + \\sum_{ik} \\hat a^\\dagger_i \\hat a_i \\hat x_{ik}\n",
    "$$\n",
    "\n",
    "Here, each electronic degree of freedom, described by $\\hat a^\\dagger_i$ and $\\hat a$, is coupled with a set of harmonic oscillators indexed by $k$.\n",
    "\n",
    "For the demonstration purposes, we may neglect the vibrations and focus only on the electronic part, which leads us to the Hückel model (or tight binding model)\n",
    "\n",
    "$$\n",
    "\\hat H = \\sum_{ij} J_{ij} \\hat a^\\dagger_i \\hat a_{i+1}\n",
    "$$\n",
    "\n",
    "This is a model that conserves the total particle number. Formally speaking, this means $\\hat H$ commutes with the total particle number operator $\\hat N = \\sum_i \\hat a^\\dagger_i \\hat a_i$.\n",
    "More intuitively, for any state $|\\psi\\rangle$ with a particular particle number, $\\hat H |\\psi\\rangle$ has the same particle number.\n",
    "For example, suppose there are only two sites, and \n",
    "$$\n",
    "|\\psi\\rangle = |01\\rangle+|10\\rangle\n",
    "$$\n",
    "\n",
    "Thus,\n",
    "\n",
    "$$\n",
    "\\hat H |\\psi\\rangle = J_{12}|10\\rangle+J_{21}|01\\rangle\n",
    "$$\n",
    "\n",
    "The two states with different quantum numbers, $|00\\rangle$ and $|11\\rangle$, will not present in $\\hat H |\\psi\\rangle$.\n",
    "In this model, the total particle number, is called a (good) quantum number.\n",
    "\n",
    "There are two main reasons why we should care about quantum number\n",
    "- For many chemical applications the quantum number can be considered as an input to the model, just as the coefficients $J_{ij}$. For example, the total number of exciton in a excitonic coupling model should be 1. If the conservation of quantum number is not enforced, numerical error may eventually lead us to incorrect solution.\n",
    "- Another advantage of using quantum number is that it saves memory and accelerates calculation. By looking at quantum numbers we can assert some of the matrix/vector elements must be zero. The sparsity can then be exploited for more efficient tensor manipulation, such as SVD."
   ]
  },
  {
   "cell_type": "markdown",
   "id": "dd7291e9-bc15-432d-a965-10981df0f39a",
   "metadata": {},
   "source": [
    "## Setting quantum number for states\n",
    "\n",
    "In renormalizer, the first place to set the quantum number is basis sets. Most `BasisSet` classes have the `sigmaqn` argument that determines the quantum number of each basis."
   ]
  },
  {
   "cell_type": "code",
   "execution_count": 1,
   "id": "38d22aea-d558-4050-ba09-5ee910022a6e",
   "metadata": {
    "execution": {
     "iopub.execute_input": "2025-10-27T14:15:28.168288Z",
     "iopub.status.busy": "2025-10-27T14:15:28.167974Z",
     "iopub.status.idle": "2025-10-27T14:15:28.805153Z",
     "shell.execute_reply": "2025-10-27T14:15:28.804414Z"
    }
   },
   "outputs": [
    {
     "name": "stderr",
     "output_type": "stream",
     "text": [
      "2025-10-27 14:15:28,760[INFO] Use NumPy as backend\n"
     ]
    },
    {
     "name": "stderr",
     "output_type": "stream",
     "text": [
      "2025-10-27 14:15:28,761[INFO] numpy random seed is 9012\n"
     ]
    },
    {
     "name": "stderr",
     "output_type": "stream",
     "text": [
      "2025-10-27 14:15:28,762[INFO] random seed is 1092\n"
     ]
    },
    {
     "name": "stderr",
     "output_type": "stream",
     "text": [
      "2025-10-27 14:15:28,771[INFO] Git Commit Hash: 190c65bf4368526ca515f9397f0e9be7762e06c6\n"
     ]
    },
    {
     "name": "stderr",
     "output_type": "stream",
     "text": [
      "2025-10-27 14:15:28,772[INFO] use 64 bits\n"
     ]
    }
   ],
   "source": [
    "from renormalizer import BasisSimpleElectron"
   ]
  },
  {
   "cell_type": "markdown",
   "id": "405f96e2-a0b8-4623-a595-3e55f0e2f2d0",
   "metadata": {},
   "source": [
    "Here we set up two basis sets and sets the quantum number for $|0\\rangle$ to 0 and $|1\\rangle$ to 1."
   ]
  },
  {
   "cell_type": "code",
   "execution_count": 2,
   "id": "4069da65-755f-4fce-8a83-48a498dfabda",
   "metadata": {
    "execution": {
     "iopub.execute_input": "2025-10-27T14:15:28.807446Z",
     "iopub.status.busy": "2025-10-27T14:15:28.807231Z",
     "iopub.status.idle": "2025-10-27T14:15:28.811079Z",
     "shell.execute_reply": "2025-10-27T14:15:28.810508Z"
    }
   },
   "outputs": [],
   "source": [
    "b1 = BasisSimpleElectron(0, sigmaqn=[0, 1])\n",
    "b2 = BasisSimpleElectron(1, sigmaqn=[0, 1])\n",
    "basis = [b1, b2]"
   ]
  },
  {
   "cell_type": "markdown",
   "id": "9e78c5a0-5570-451a-8ea0-6c703bad5178",
   "metadata": {},
   "source": [
    "We next build a random MPS based on the basis sets and see its effect"
   ]
  },
  {
   "cell_type": "code",
   "execution_count": 3,
   "id": "9d3b7ff7-ac29-4a33-8ed8-98dca88d1c37",
   "metadata": {
    "execution": {
     "iopub.execute_input": "2025-10-27T14:15:28.813109Z",
     "iopub.status.busy": "2025-10-27T14:15:28.812911Z",
     "iopub.status.idle": "2025-10-27T14:15:28.815753Z",
     "shell.execute_reply": "2025-10-27T14:15:28.815213Z"
    }
   },
   "outputs": [],
   "source": [
    "from renormalizer import Mps, Model"
   ]
  },
  {
   "cell_type": "code",
   "execution_count": 4,
   "id": "e9358f1f-f98e-4581-b6e0-54308966f74f",
   "metadata": {
    "execution": {
     "iopub.execute_input": "2025-10-27T14:15:28.817567Z",
     "iopub.status.busy": "2025-10-27T14:15:28.817369Z",
     "iopub.status.idle": "2025-10-27T14:15:28.820400Z",
     "shell.execute_reply": "2025-10-27T14:15:28.819843Z"
    }
   },
   "outputs": [],
   "source": [
    "model = Model(basis, ham_terms=[])"
   ]
  },
  {
   "cell_type": "code",
   "execution_count": 5,
   "id": "f86cea1c-916f-47c0-bced-a8dc7c2f7055",
   "metadata": {
    "execution": {
     "iopub.execute_input": "2025-10-27T14:15:28.822193Z",
     "iopub.status.busy": "2025-10-27T14:15:28.821996Z",
     "iopub.status.idle": "2025-10-27T14:15:28.826184Z",
     "shell.execute_reply": "2025-10-27T14:15:28.825599Z"
    }
   },
   "outputs": [],
   "source": [
    "mps = Mps.random(model, qntot=1, m_max=2)"
   ]
  },
  {
   "cell_type": "code",
   "execution_count": 6,
   "id": "ff4c6277-31bb-4010-aca8-c637e3e0fa0c",
   "metadata": {
    "execution": {
     "iopub.execute_input": "2025-10-27T14:15:28.827944Z",
     "iopub.status.busy": "2025-10-27T14:15:28.827747Z",
     "iopub.status.idle": "2025-10-27T14:15:28.834417Z",
     "shell.execute_reply": "2025-10-27T14:15:28.833829Z"
    }
   },
   "outputs": [
    {
     "data": {
      "text/plain": [
       "array([[[1., 0.],\n",
       "        [0., 1.]]])"
      ]
     },
     "execution_count": 6,
     "metadata": {},
     "output_type": "execute_result"
    }
   ],
   "source": [
    "mps[0].array"
   ]
  },
  {
   "cell_type": "code",
   "execution_count": 7,
   "id": "ee83a807-0962-4889-b895-63067c898497",
   "metadata": {
    "execution": {
     "iopub.execute_input": "2025-10-27T14:15:28.836508Z",
     "iopub.status.busy": "2025-10-27T14:15:28.836033Z",
     "iopub.status.idle": "2025-10-27T14:15:28.840241Z",
     "shell.execute_reply": "2025-10-27T14:15:28.839714Z"
    }
   },
   "outputs": [
    {
     "data": {
      "text/plain": [
       "array([[[ 0.        ],\n",
       "        [-0.7089592 ]],\n",
       "\n",
       "       [[-0.70524949],\n",
       "        [ 0.        ]]])"
      ]
     },
     "execution_count": 7,
     "metadata": {},
     "output_type": "execute_result"
    }
   ],
   "source": [
    "mps[1].array"
   ]
  },
  {
   "cell_type": "code",
   "execution_count": 8,
   "id": "faac1b86-603c-4c1e-8924-b21216d6949e",
   "metadata": {
    "execution": {
     "iopub.execute_input": "2025-10-27T14:15:28.842563Z",
     "iopub.status.busy": "2025-10-27T14:15:28.842006Z",
     "iopub.status.idle": "2025-10-27T14:15:28.846594Z",
     "shell.execute_reply": "2025-10-27T14:15:28.845941Z"
    }
   },
   "outputs": [
    {
     "data": {
      "text/plain": [
       "array([ 0.        , -0.7089592 , -0.70524949,  0.        ])"
      ]
     },
     "execution_count": 8,
     "metadata": {},
     "output_type": "execute_result"
    }
   ],
   "source": [
    "mps.todense()"
   ]
  },
  {
   "cell_type": "markdown",
   "id": "1a0476e9-1884-465b-b0df-f21693f423f1",
   "metadata": {},
   "source": [
    "We can see that although the MPS is random, half of the matrix elements are zero, due to particle number conservation. As a result, the overall dense state vector has a well-defined particle number of 1.\n",
    "\n",
    "For comparison, in the following the MPS when quantum number is not activated is shown"
   ]
  },
  {
   "cell_type": "code",
   "execution_count": 9,
   "id": "ee62750a-8bc3-40ed-b7fa-d983942f8f19",
   "metadata": {
    "execution": {
     "iopub.execute_input": "2025-10-27T14:15:28.848725Z",
     "iopub.status.busy": "2025-10-27T14:15:28.848503Z",
     "iopub.status.idle": "2025-10-27T14:15:28.852737Z",
     "shell.execute_reply": "2025-10-27T14:15:28.852168Z"
    }
   },
   "outputs": [],
   "source": [
    "model2 = Model([BasisSimpleElectron(i, sigmaqn=[0, 0]) for i in range(2)], ham_terms=[])\n",
    "mps2 = Mps.random(model2, qntot=0, m_max=2)"
   ]
  },
  {
   "cell_type": "code",
   "execution_count": 10,
   "id": "aab1e5dd-2aef-45a4-a7e2-11b31d9bdd53",
   "metadata": {
    "execution": {
     "iopub.execute_input": "2025-10-27T14:15:28.854541Z",
     "iopub.status.busy": "2025-10-27T14:15:28.854358Z",
     "iopub.status.idle": "2025-10-27T14:15:28.858792Z",
     "shell.execute_reply": "2025-10-27T14:15:28.858199Z"
    }
   },
   "outputs": [
    {
     "data": {
      "text/plain": [
       "array([[[-0.27201201, -0.96229386],\n",
       "        [ 0.96229386, -0.27201201]]])"
      ]
     },
     "execution_count": 10,
     "metadata": {},
     "output_type": "execute_result"
    }
   ],
   "source": [
    "mps2[0].array"
   ]
  },
  {
   "cell_type": "code",
   "execution_count": 11,
   "id": "099493a0-f1bc-4eaf-ad21-a9faee50ad2d",
   "metadata": {
    "execution": {
     "iopub.execute_input": "2025-10-27T14:15:28.860834Z",
     "iopub.status.busy": "2025-10-27T14:15:28.860447Z",
     "iopub.status.idle": "2025-10-27T14:15:28.864776Z",
     "shell.execute_reply": "2025-10-27T14:15:28.864107Z"
    }
   },
   "outputs": [
    {
     "data": {
      "text/plain": [
       "array([[[-0.56196169],\n",
       "        [ 0.61166976]],\n",
       "\n",
       "       [[ 0.34668986],\n",
       "        [ 0.43573537]]])"
      ]
     },
     "execution_count": 11,
     "metadata": {},
     "output_type": "execute_result"
    }
   ],
   "source": [
    "mps2[1].array"
   ]
  },
  {
   "cell_type": "code",
   "execution_count": 12,
   "id": "33c1f28a-4847-4918-b25e-def309491a06",
   "metadata": {
    "execution": {
     "iopub.execute_input": "2025-10-27T14:15:28.866934Z",
     "iopub.status.busy": "2025-10-27T14:15:28.866443Z",
     "iopub.status.idle": "2025-10-27T14:15:28.870776Z",
     "shell.execute_reply": "2025-10-27T14:15:28.870211Z"
    }
   },
   "outputs": [
    {
     "data": {
      "text/plain": [
       "array([-0.18075719, -0.58568699, -0.63507609,  0.47008079])"
      ]
     },
     "execution_count": 12,
     "metadata": {},
     "output_type": "execute_result"
    }
   ],
   "source": [
    "mps2.todense()"
   ]
  },
  {
   "cell_type": "markdown",
   "id": "4caf1a2b-77aa-4516-9e93-5d391e1d5645",
   "metadata": {},
   "source": [
    "## Setting quantum number for operators\n",
    "Just as states, operators are also associated with quantum number. The quantum number of an operator shows the change of quantum number if the operator is applied to a state.\n",
    "For example, the quantum number of $\\hat a^\\dagger$ is 1, since\n",
    "\n",
    "$$\n",
    "\\hat a^\\dagger |0\\rangle = |1\\rangle\n",
    "$$\n",
    "\n",
    "Similarly, the quantum number of $\\hat a$ is -1.\n",
    "\n",
    "In Renormalizer, to fully take advantage of quatnum number conservation, we need to set the quantum number for the operators. The `Op` class accepts the `qn` argument for the quantum number of each elementary operator."
   ]
  },
  {
   "cell_type": "code",
   "execution_count": 13,
   "id": "eb7f7ba4-5228-41bc-bf6d-ee41211e5f81",
   "metadata": {
    "execution": {
     "iopub.execute_input": "2025-10-27T14:15:28.872784Z",
     "iopub.status.busy": "2025-10-27T14:15:28.872566Z",
     "iopub.status.idle": "2025-10-27T14:15:28.875534Z",
     "shell.execute_reply": "2025-10-27T14:15:28.874988Z"
    }
   },
   "outputs": [],
   "source": [
    "from renormalizer import Op, Mpo"
   ]
  },
  {
   "cell_type": "markdown",
   "id": "b077751c-0f0a-499d-baaa-0acf65994c18",
   "metadata": {},
   "source": [
    "Apply the creation operator to the MPS. The total quantum number of the MPS increases from 1 to 2, and the resulting state is $|11\\rangle$."
   ]
  },
  {
   "cell_type": "code",
   "execution_count": 14,
   "id": "86bfaee4-bbe1-43d5-98a6-0e1116131083",
   "metadata": {
    "execution": {
     "iopub.execute_input": "2025-10-27T14:15:28.877834Z",
     "iopub.status.busy": "2025-10-27T14:15:28.877349Z",
     "iopub.status.idle": "2025-10-27T14:15:28.884276Z",
     "shell.execute_reply": "2025-10-27T14:15:28.883760Z"
    }
   },
   "outputs": [
    {
     "name": "stderr",
     "output_type": "stream",
     "text": [
      "2025-10-27 14:15:28,878[DEBUG] # of operator terms: 1\n"
     ]
    },
    {
     "name": "stderr",
     "output_type": "stream",
     "text": [
      "2025-10-27 14:15:28,879[DEBUG] Input operator terms: 1\n"
     ]
    },
    {
     "name": "stderr",
     "output_type": "stream",
     "text": [
      "2025-10-27 14:15:28,880[DEBUG] After combination of the same terms: 1\n"
     ]
    }
   ],
   "source": [
    "mps3 = Mpo(model, Op(r\"a^\\dagger\", 0, qn=1)) @ mps"
   ]
  },
  {
   "cell_type": "code",
   "execution_count": 15,
   "id": "48c0d99b-a6c2-4656-b78d-9762d7cba665",
   "metadata": {
    "execution": {
     "iopub.execute_input": "2025-10-27T14:15:28.886228Z",
     "iopub.status.busy": "2025-10-27T14:15:28.886026Z",
     "iopub.status.idle": "2025-10-27T14:15:28.890316Z",
     "shell.execute_reply": "2025-10-27T14:15:28.889619Z"
    }
   },
   "outputs": [
    {
     "data": {
      "text/plain": [
       "array([2])"
      ]
     },
     "execution_count": 15,
     "metadata": {},
     "output_type": "execute_result"
    }
   ],
   "source": [
    "mps3.qntot"
   ]
  },
  {
   "cell_type": "code",
   "execution_count": 16,
   "id": "0cad769d-b8e1-43b4-8c95-08e45dbf7cc6",
   "metadata": {
    "execution": {
     "iopub.execute_input": "2025-10-27T14:15:28.892190Z",
     "iopub.status.busy": "2025-10-27T14:15:28.892007Z",
     "iopub.status.idle": "2025-10-27T14:15:28.896470Z",
     "shell.execute_reply": "2025-10-27T14:15:28.895928Z"
    }
   },
   "outputs": [
    {
     "data": {
      "text/plain": [
       "array([ 0.       ,  0.       ,  0.       , -0.7089592])"
      ]
     },
     "execution_count": 16,
     "metadata": {},
     "output_type": "execute_result"
    }
   ],
   "source": [
    "mps3.todense()"
   ]
  },
  {
   "cell_type": "markdown",
   "id": "dd43f83d-c904-49b4-9cf6-61311dfb70eb",
   "metadata": {},
   "source": [
    "For complex symbols the quantum number for each elementary symbol should be specified."
   ]
  },
  {
   "cell_type": "code",
   "execution_count": 17,
   "id": "7110a397-e270-4083-b064-aded86675163",
   "metadata": {
    "execution": {
     "iopub.execute_input": "2025-10-27T14:15:28.898434Z",
     "iopub.status.busy": "2025-10-27T14:15:28.898249Z",
     "iopub.status.idle": "2025-10-27T14:15:28.901598Z",
     "shell.execute_reply": "2025-10-27T14:15:28.901042Z"
    }
   },
   "outputs": [],
   "source": [
    "ham_terms = Op(r\"a^\\dagger a\", [0, 1], qn=[1, -1]) + Op(r\"a^\\dagger a\", [1, 0], qn=[1, -1])"
   ]
  },
  {
   "cell_type": "markdown",
   "id": "f2f06181-87d2-4a03-97df-c859cb304c30",
   "metadata": {},
   "source": [
    "To summarize, three places are relevant to the setup of quantum number\n",
    "- The basis sets\n",
    "- The operators\n",
    "- Total quantum number in MPS"
   ]
  },
  {
   "cell_type": "markdown",
   "id": "2dd4d74c-386a-4244-8422-5d022842d07f",
   "metadata": {},
   "source": [
    "## Notes\n",
    "\n",
    "Setting quantum number is not necessary. When quantum number is not conserved or for some reason quantum number conservation is not desired, set all quantum numbers to 0.\n",
    "\n",
    "Renormalizer supports the conservation of multiple quantum numbers. For example, in *ab initio* electronic structure calculations, both the number of alpha spin electrons and the number of beta spin electrons are conserved.\n",
    "In such cases, quantum numbers should be set to a numpy array of integers."
   ]
  },
  {
   "cell_type": "code",
   "execution_count": 18,
   "id": "9d3c8a36-25e8-46e6-91cd-4d520238f0df",
   "metadata": {
    "execution": {
     "iopub.execute_input": "2025-10-27T14:15:28.903611Z",
     "iopub.status.busy": "2025-10-27T14:15:28.903429Z",
     "iopub.status.idle": "2025-10-27T14:15:28.906503Z",
     "shell.execute_reply": "2025-10-27T14:15:28.905946Z"
    }
   },
   "outputs": [],
   "source": [
    "import numpy as np"
   ]
  },
  {
   "cell_type": "code",
   "execution_count": 19,
   "id": "9f5fa2cf-e6e5-430a-9dc2-176237d82e5a",
   "metadata": {
    "execution": {
     "iopub.execute_input": "2025-10-27T14:15:28.908662Z",
     "iopub.status.busy": "2025-10-27T14:15:28.908283Z",
     "iopub.status.idle": "2025-10-27T14:15:28.912819Z",
     "shell.execute_reply": "2025-10-27T14:15:28.912236Z"
    }
   },
   "outputs": [
    {
     "data": {
      "text/plain": [
       "Op('a^\\\\dagger', ['up'], 1.0, [[1, 0]])"
      ]
     },
     "execution_count": 19,
     "metadata": {},
     "output_type": "execute_result"
    }
   ],
   "source": [
    "# spin up creation operator\n",
    "Op(r\"a^\\dagger\", \"up\", qn=np.array([1, 0]))"
   ]
  },
  {
   "cell_type": "code",
   "execution_count": 20,
   "id": "9166c78b-15d3-4c64-a42d-5a3c37ecc4aa",
   "metadata": {
    "execution": {
     "iopub.execute_input": "2025-10-27T14:15:28.914969Z",
     "iopub.status.busy": "2025-10-27T14:15:28.914573Z",
     "iopub.status.idle": "2025-10-27T14:15:28.918807Z",
     "shell.execute_reply": "2025-10-27T14:15:28.918250Z"
    }
   },
   "outputs": [
    {
     "data": {
      "text/plain": [
       "Op('a', ['up'], 1.0, [[-1, 0]])"
      ]
     },
     "execution_count": 20,
     "metadata": {},
     "output_type": "execute_result"
    }
   ],
   "source": [
    "# spin up annihilation operator\n",
    "Op(r\"a\", \"up\", qn=np.array([-1, 0]))"
   ]
  },
  {
   "cell_type": "code",
   "execution_count": 21,
   "id": "f789d3b7-46e2-4a23-b9a0-e72ed323c0e3",
   "metadata": {
    "execution": {
     "iopub.execute_input": "2025-10-27T14:15:28.920622Z",
     "iopub.status.busy": "2025-10-27T14:15:28.920419Z",
     "iopub.status.idle": "2025-10-27T14:15:28.924920Z",
     "shell.execute_reply": "2025-10-27T14:15:28.924350Z"
    }
   },
   "outputs": [
    {
     "data": {
      "text/plain": [
       "Op('a^\\\\dagger', ['down'], 1.0, [[0, 1]])"
      ]
     },
     "execution_count": 21,
     "metadata": {},
     "output_type": "execute_result"
    }
   ],
   "source": [
    "# spin down creation operator\n",
    "Op(r\"a^\\dagger\", \"down\", qn=np.array([0, 1]))"
   ]
  },
  {
   "cell_type": "code",
   "execution_count": 22,
   "id": "4f023161-daa1-42f2-84ba-4d4528dd4461",
   "metadata": {
    "execution": {
     "iopub.execute_input": "2025-10-27T14:15:28.927002Z",
     "iopub.status.busy": "2025-10-27T14:15:28.926613Z",
     "iopub.status.idle": "2025-10-27T14:15:28.931139Z",
     "shell.execute_reply": "2025-10-27T14:15:28.930522Z"
    }
   },
   "outputs": [
    {
     "data": {
      "text/plain": [
       "Op('a^\\\\dagger', ['down'], 1.0, [[0, -1]])"
      ]
     },
     "execution_count": 22,
     "metadata": {},
     "output_type": "execute_result"
    }
   ],
   "source": [
    "# spin down annihilation operator\n",
    "Op(r\"a^\\dagger\", \"down\", qn=np.array([0, -1]))"
   ]
  },
  {
   "cell_type": "code",
   "execution_count": null,
   "id": "78557796-060c-42ce-94ab-6981c862c870",
   "metadata": {},
   "outputs": [],
   "source": []
  }
 ],
 "metadata": {
  "language_info": {
   "codemirror_mode": {
    "name": "ipython",
    "version": 3
   },
   "file_extension": ".py",
   "mimetype": "text/x-python",
   "name": "python",
   "nbconvert_exporter": "python",
   "pygments_lexer": "ipython3",
   "version": "3.8.18"
  }
 },
 "nbformat": 4,
 "nbformat_minor": 5
}
