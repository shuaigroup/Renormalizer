{
 "cells": [
  {
   "cell_type": "markdown",
   "metadata": {},
   "source": [
    "open boundary spin 1/2 1-D Heisenberg model\n",
    "\n",
    "$H = J \\sum_i [S_i^z S_{i+1}^z + \\frac{1}{2}(S_i^+ S_{i+1}^- + S_i^- S_{i+1}^+)]$\n",
    "\n",
    "exact result (Bethe Anstatz):\n",
    "\n",
    "L\t     E/J\n",
    "\n",
    "16\t-6.9117371455749\n",
    "\n",
    "24\t-10.4537857604096\n",
    "\n",
    "32\t-13.9973156182243\n",
    "\n",
    "48\t-21.0859563143863\n",
    "\n",
    "64\t-28.1754248597421\n"
   ]
  },
  {
   "cell_type": "code",
   "execution_count": 7,
   "metadata": {},
   "outputs": [
    {
     "name": "stderr",
     "output_type": "stream",
     "text": [
      "2020-04-15 22:42:12,231[DEBUG] # of operator terms: 45\n",
      "2020-04-15 22:42:12,232[DEBUG] symbolic mpo algorithm: Hopcroft-Karp\n",
      "2020-04-15 22:42:12,285[DEBUG] mmax, percent: 30, 0.2\n",
      "2020-04-15 22:42:12,290[DEBUG] energy: -0.1085174478945915\n",
      "2020-04-15 22:42:12,290[DEBUG] current size: 151.2KiB, Matrix product bond dim:[1, 2, 4, 8, 16, 30, 30, 30, 30, 30, 30, 30, 30, 30, 30, 30, 1]\n"
     ]
    },
    {
     "name": "stdout",
     "output_type": "stream",
     "text": [
      "mpo_bond_dims:[1, 4, 5, 5, 5, 5, 5, 5, 5, 5, 5, 5, 5, 5, 5, 4, 1]\n"
     ]
    },
    {
     "name": "stderr",
     "output_type": "stream",
     "text": [
      "2020-04-15 22:42:12,617[DEBUG] mmax, percent: 30, 0\n",
      "2020-04-15 22:42:12,621[DEBUG] energy: -6.911737142404165\n",
      "2020-04-15 22:42:12,621[DEBUG] current size: 151.2KiB, Matrix product bond dim:[1, 2, 4, 8, 16, 30, 30, 30, 30, 30, 30, 30, 30, 30, 30, 30, 1]\n",
      "2020-04-15 22:42:12,691[DEBUG] mmax, percent: 30, 0\n",
      "2020-04-15 22:42:12,695[DEBUG] energy: -6.91173714240646\n",
      "2020-04-15 22:42:12,696[DEBUG] current size: 151.2KiB, Matrix product bond dim:[1, 2, 4, 8, 16, 30, 30, 30, 30, 30, 30, 30, 30, 30, 30, 30, 1]\n",
      "2020-04-15 22:42:12,766[DEBUG] mmax, percent: 30, 0\n",
      "2020-04-15 22:42:12,770[DEBUG] energy: -6.911737142406941\n",
      "2020-04-15 22:42:12,771[DEBUG] current size: 151.2KiB, Matrix product bond dim:[1, 2, 4, 8, 16, 30, 30, 30, 30, 30, 30, 30, 30, 30, 30, 30, 1]\n",
      "2020-04-15 22:42:12,852[DEBUG] mmax, percent: 30, 0\n",
      "2020-04-15 22:42:12,855[DEBUG] energy: -6.911737142406177\n",
      "2020-04-15 22:42:12,856[DEBUG] current size: 151.2KiB, Matrix product bond dim:[1, 2, 4, 8, 16, 30, 30, 30, 30, 30, 30, 30, 30, 30, 30, 30, 1]\n",
      "2020-04-15 22:42:12,928[DEBUG] Optimization complete, lowest energy = -6.91174\n"
     ]
    },
    {
     "name": "stdout",
     "output_type": "stream",
     "text": [
      "gs energy: -6.911737143784083\n"
     ]
    }
   ],
   "source": [
    "from renormalizer.mps import Mps, Mpo, solver\n",
    "from renormalizer.model import MolList2, ModelTranslator\n",
    "from renormalizer.utils import basis as ba\n",
    "from renormalizer.utils import Op\n",
    "import numpy as np\n",
    "\n",
    "# define the # of spins\n",
    "nspin = 16\n",
    "\n",
    "# define the model\n",
    "# sigma^+ = S^+\n",
    "# sigma^- = S^-\n",
    "# 1/2 sigma^x,y,z = S^x,y,z\n",
    "\n",
    "model = dict()\n",
    "for ispin in range(nspin-1):\n",
    "    model[(f\"e_{ispin}\", f\"e_{ispin+1}\")] = [(Op(\"sigma_z\",0),\n",
    "            Op(\"sigma_z\",0), 1.0/4), (Op(\"sigma_+\",0), Op(\"sigma_-\",0), 1.0/2),\n",
    "            (Op(\"sigma_-\",0), Op(\"sigma_+\", 0), 1.0/2)]\n",
    "\n",
    "# set the spin order and local basis\n",
    "order = {}\n",
    "basis = []\n",
    "for ispin in range(nspin):\n",
    "    order[f\"e_{ispin}\"] = ispin\n",
    "    basis.append(ba.BasisHalfSpin(sigmaqn=[0,0]))\n",
    "\n",
    "# construct MPO\n",
    "mol_list2 = MolList2(order, basis, model, ModelTranslator.general_model)\n",
    "mpo = Mpo(mol_list2)\n",
    "print(f\"mpo_bond_dims:{mpo.bond_dims}\")\n",
    "\n",
    "# set the sweep paramter\n",
    "M=30\n",
    "procedure = [[M, 0.2], [M, 0], [M, 0], [M,0], [M,0]]\n",
    "\n",
    "# initialize a random MPS\n",
    "qntot = 0\n",
    "mps = Mps.random(mol_list2, qntot, M)\n",
    "\n",
    "mps.optimize_config.procedure = procedure\n",
    "mps.optimize_config.method = \"2site\"\n",
    "\n",
    "# optimize MPS\n",
    "energies = solver.optimize_mps_dmrg(mps.copy(), mpo)\n",
    "print(\"gs energy:\", energies.min())\n"
   ]
  },
  {
   "cell_type": "code",
   "execution_count": 8,
   "metadata": {},
   "outputs": [
    {
     "data": {
      "image/png": "[encoded data removed]",
      "text/plain": [
       "<Figure size 576x432 with 1 Axes>"
      ]
     },
     "metadata": {
      "needs_background": "light"
     },
     "output_type": "display_data"
    }
   ],
   "source": [
    "# plot the microiterations vs energy error\n",
    "import matplotlib.pyplot as plt\n",
    "import logging \n",
    "\n",
    "mpl_logger = logging.getLogger('matplotlib') \n",
    "mpl_logger.setLevel(logging.WARNING) \n",
    "\n",
    "plt.rc('font', family='Times New Roman', size=16)\n",
    "plt.rc('axes', linewidth=1.5)\n",
    "plt.rcParams['lines.linewidth'] = 2\n",
    "std = -6.9117371455749\n",
    "fig, ax = plt.subplots(figsize=(8,6))\n",
    "plt.plot(np.arange(len(energies)), np.array(energies)-std,\"o-\",ms=5)\n",
    "\n",
    "plt.yscale('log')\n",
    "plt.xlabel(\"microiterations\")\n",
    "plt.ylabel(\"$\\Delta$ E\")\n",
    "plt.ylim(1e-9, 10)\n",
    "plt.show()"
   ]
  },
  {
   "cell_type": "code",
   "execution_count": null,
   "metadata": {},
   "outputs": [],
   "source": []
  }
 ],
 "metadata": {
  "kernelspec": {
   "display_name": "Python 3",
   "language": "python",
   "name": "python3"
  },
  "language_info": {
   "codemirror_mode": {
    "name": "ipython",
    "version": 3
   },
   "file_extension": ".py",
   "mimetype": "text/x-python",
   "name": "python",
   "nbconvert_exporter": "python",
   "pygments_lexer": "ipython3",
   "version": "3.7.3"
  }
 },
 "nbformat": 4,
 "nbformat_minor": 4
}
